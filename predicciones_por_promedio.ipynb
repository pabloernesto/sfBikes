{
 "cells": [
  {
   "cell_type": "code",
   "execution_count": 1,
   "metadata": {
    "collapsed": true
   },
   "outputs": [],
   "source": [
    "import pandas as pd\n",
    "import numpy as np"
   ]
  },
  {
   "cell_type": "code",
   "execution_count": 5,
   "metadata": {
    "collapsed": false
   },
   "outputs": [],
   "source": [
    "trip = pd.read_csv('data/trip.csv')\n",
    "train = pd.read_csv('data/trip_train.csv', usecols=['id'])\n",
    "test = pd.read_csv('data/trip_test.csv', usecols=['id'])"
   ]
  },
  {
   "cell_type": "code",
   "execution_count": 6,
   "metadata": {
    "collapsed": true
   },
   "outputs": [],
   "source": [
    "train = train.merge(trip, on='id', how='left')\n",
    "test = test.merge(trip, on='id', how='left')"
   ]
  },
  {
   "cell_type": "code",
   "execution_count": 12,
   "metadata": {
    "collapsed": false
   },
   "outputs": [
    {
     "data": {
      "text/plain": [
       "1113.4153549069842"
      ]
     },
     "execution_count": 12,
     "metadata": {},
     "output_type": "execute_result"
    }
   ],
   "source": [
    "tmean = train.duration.mean()\n",
    "tmean"
   ]
  },
  {
   "cell_type": "code",
   "execution_count": 28,
   "metadata": {
    "collapsed": false
   },
   "outputs": [
    {
     "data": {
      "text/plain": [
       "array([ 1113.41535491,  1113.41535491,  1113.41535491, ...,  1113.41535491,\n",
       "        1113.41535491,  1113.41535491])"
      ]
     },
     "execution_count": 28,
     "metadata": {},
     "output_type": "execute_result"
    }
   ],
   "source": [
    "pred_average = np.ones(test.shape[0]) * tmean\n",
    "pred_average"
   ]
  },
  {
   "cell_type": "code",
   "execution_count": 29,
   "metadata": {
    "collapsed": false
   },
   "outputs": [
    {
     "data": {
      "text/plain": [
       "42789064.377052069"
      ]
     },
     "execution_count": 29,
     "metadata": {},
     "output_type": "execute_result"
    }
   ],
   "source": [
    "from sklearn.metrics import mean_squared_error\n",
    "mean_squared_error(pred_average, test.duration)"
   ]
  },
  {
   "cell_type": "code",
   "execution_count": 20,
   "metadata": {
    "collapsed": false,
    "scrolled": true
   },
   "outputs": [
    {
     "data": {
      "text/plain": [
       "start_station_id\n",
       "2      830.593311\n",
       "3     4130.505686\n",
       "4      909.921934\n",
       "5     1346.296225\n",
       "6     1491.248013\n",
       "7     1336.261983\n",
       "8     1361.152567\n",
       "9     2202.836761\n",
       "10    1260.321058\n",
       "11    1427.311485\n",
       "12    1969.632739\n",
       "13     889.786500\n",
       "14    2208.775168\n",
       "16    1454.990871\n",
       "21    1749.553672\n",
       "22    2408.736593\n",
       "23    3164.149123\n",
       "24    4937.294798\n",
       "25    1432.687961\n",
       "26    4478.719697\n",
       "27    1150.748263\n",
       "28    1298.359360\n",
       "29    2279.627057\n",
       "30    1219.428155\n",
       "31    2520.894666\n",
       "32    2059.435038\n",
       "33    4550.363248\n",
       "34    3199.074031\n",
       "35    7162.650407\n",
       "36    4097.489796\n",
       "         ...     \n",
       "50    1492.093814\n",
       "51     846.820914\n",
       "54    1010.708167\n",
       "55     660.805522\n",
       "56     865.266193\n",
       "57     919.633019\n",
       "58    1771.128226\n",
       "59    1160.639352\n",
       "60    1426.484028\n",
       "61     784.060632\n",
       "62     577.402217\n",
       "63     749.157061\n",
       "64     690.745213\n",
       "65     682.134955\n",
       "66    2636.122528\n",
       "67    1043.103415\n",
       "68     930.641134\n",
       "69     693.224969\n",
       "70     827.505555\n",
       "71    1586.204461\n",
       "72    1193.126478\n",
       "73    1210.278022\n",
       "74     946.597148\n",
       "75    1012.518851\n",
       "76    1300.885633\n",
       "77     941.383109\n",
       "80    1339.322176\n",
       "82     803.653851\n",
       "83    1493.949821\n",
       "84    1043.378285\n",
       "Name: duration, dtype: float64"
      ]
     },
     "execution_count": 20,
     "metadata": {},
     "output_type": "execute_result"
    }
   ],
   "source": [
    "mean_by_station = train.groupby('start_station_id').mean().duration\n",
    "mean_by_station"
   ]
  },
  {
   "cell_type": "code",
   "execution_count": 27,
   "metadata": {
    "collapsed": false,
    "scrolled": true
   },
   "outputs": [
    {
     "data": {
      "text/plain": [
       "0         1426.484028\n",
       "1          846.820914\n",
       "2          827.505555\n",
       "3         1193.126478\n",
       "4          693.224969\n",
       "5          784.060632\n",
       "6         1043.103415\n",
       "7         1683.993871\n",
       "8         1043.103415\n",
       "9         1683.993871\n",
       "10        1010.708167\n",
       "11        1193.126478\n",
       "12         690.745213\n",
       "13         577.402217\n",
       "14         693.224969\n",
       "15         766.900900\n",
       "16        1492.093814\n",
       "17         766.900900\n",
       "18         846.820914\n",
       "19         693.224969\n",
       "20         941.383109\n",
       "21        1757.156921\n",
       "22         693.224969\n",
       "23        1385.070514\n",
       "24         946.597148\n",
       "25         577.402217\n",
       "26         803.653851\n",
       "27         930.641134\n",
       "28         941.383109\n",
       "29        1426.484028\n",
       "             ...     \n",
       "119968    1043.103415\n",
       "119969     682.134955\n",
       "119970     941.383109\n",
       "119971     941.383109\n",
       "119972     946.597148\n",
       "119973     766.900900\n",
       "119974    1300.885633\n",
       "119975    1043.378285\n",
       "119976    1043.378285\n",
       "119977     577.402217\n",
       "119978    1071.313968\n",
       "119979     693.224969\n",
       "119980     827.505555\n",
       "119981    2279.627057\n",
       "119982    1071.313968\n",
       "119983    2636.122528\n",
       "119984     946.597148\n",
       "119985    1010.708167\n",
       "119986     803.653851\n",
       "119987    1043.103415\n",
       "119988     682.134955\n",
       "119989    1012.518851\n",
       "119990     693.224969\n",
       "119991    1492.093814\n",
       "119992     693.224969\n",
       "119993    2636.122528\n",
       "119994     693.224969\n",
       "119995    1492.093814\n",
       "119996     830.593311\n",
       "119997    1012.518851\n",
       "Name: start_station_id, dtype: float64"
      ]
     },
     "execution_count": 27,
     "metadata": {},
     "output_type": "execute_result"
    }
   ],
   "source": [
    "pred_segregated = test.start_station_id.apply(lambda x: mean_by_station[x])\n",
    "pred_segregated"
   ]
  },
  {
   "cell_type": "code",
   "execution_count": 30,
   "metadata": {
    "collapsed": false
   },
   "outputs": [
    {
     "data": {
      "text/plain": [
       "42587373.608965136"
      ]
     },
     "execution_count": 30,
     "metadata": {},
     "output_type": "execute_result"
    }
   ],
   "source": [
    "mean_squared_error(pred_segregated, test.duration)"
   ]
  },
  {
   "cell_type": "code",
   "execution_count": 33,
   "metadata": {
    "collapsed": false
   },
   "outputs": [
    {
     "data": {
      "text/plain": [
       "subscription_type\n",
       "Customer      4002.842039\n",
       "Subscriber     588.251312\n",
       "Name: duration, dtype: float64"
      ]
     },
     "execution_count": 33,
     "metadata": {},
     "output_type": "execute_result"
    }
   ],
   "source": [
    "mean_by_subscriber = train.groupby('subscription_type').mean().duration\n",
    "mean_by_subscriber"
   ]
  },
  {
   "cell_type": "code",
   "execution_count": 35,
   "metadata": {
    "collapsed": false,
    "scrolled": true
   },
   "outputs": [
    {
     "data": {
      "text/plain": [
       "0         4002.842039\n",
       "1          588.251312\n",
       "2          588.251312\n",
       "3          588.251312\n",
       "4          588.251312\n",
       "5          588.251312\n",
       "6          588.251312\n",
       "7          588.251312\n",
       "8          588.251312\n",
       "9          588.251312\n",
       "10         588.251312\n",
       "11         588.251312\n",
       "12         588.251312\n",
       "13         588.251312\n",
       "14        4002.842039\n",
       "15        4002.842039\n",
       "16         588.251312\n",
       "17         588.251312\n",
       "18         588.251312\n",
       "19         588.251312\n",
       "20         588.251312\n",
       "21        4002.842039\n",
       "22         588.251312\n",
       "23         588.251312\n",
       "24         588.251312\n",
       "25         588.251312\n",
       "26        4002.842039\n",
       "27         588.251312\n",
       "28         588.251312\n",
       "29         588.251312\n",
       "             ...     \n",
       "119968     588.251312\n",
       "119969     588.251312\n",
       "119970     588.251312\n",
       "119971     588.251312\n",
       "119972     588.251312\n",
       "119973     588.251312\n",
       "119974     588.251312\n",
       "119975     588.251312\n",
       "119976     588.251312\n",
       "119977     588.251312\n",
       "119978     588.251312\n",
       "119979     588.251312\n",
       "119980     588.251312\n",
       "119981     588.251312\n",
       "119982     588.251312\n",
       "119983     588.251312\n",
       "119984     588.251312\n",
       "119985     588.251312\n",
       "119986     588.251312\n",
       "119987     588.251312\n",
       "119988     588.251312\n",
       "119989     588.251312\n",
       "119990     588.251312\n",
       "119991    4002.842039\n",
       "119992     588.251312\n",
       "119993     588.251312\n",
       "119994     588.251312\n",
       "119995     588.251312\n",
       "119996     588.251312\n",
       "119997     588.251312\n",
       "Name: subscription_type, dtype: float64"
      ]
     },
     "execution_count": 35,
     "metadata": {},
     "output_type": "execute_result"
    }
   ],
   "source": [
    "pred_subscriber = test.subscription_type.apply(lambda x: mean_by_subscriber[x])\n",
    "pred_subscriber"
   ]
  },
  {
   "cell_type": "code",
   "execution_count": 36,
   "metadata": {
    "collapsed": false
   },
   "outputs": [
    {
     "data": {
      "text/plain": [
       "41522796.741365597"
      ]
     },
     "execution_count": 36,
     "metadata": {},
     "output_type": "execute_result"
    }
   ],
   "source": [
    "mean_squared_error(pred_subscriber, test.duration)"
   ]
  },
  {
   "cell_type": "code",
   "execution_count": null,
   "metadata": {
    "collapsed": true
   },
   "outputs": [],
   "source": []
  }
 ],
 "metadata": {
  "kernelspec": {
   "display_name": "Python 2",
   "language": "python",
   "name": "python2"
  },
  "language_info": {
   "codemirror_mode": {
    "name": "ipython",
    "version": 2
   },
   "file_extension": ".py",
   "mimetype": "text/x-python",
   "name": "python",
   "nbconvert_exporter": "python",
   "pygments_lexer": "ipython2",
   "version": "2.7.13"
  }
 },
 "nbformat": 4,
 "nbformat_minor": 2
}
