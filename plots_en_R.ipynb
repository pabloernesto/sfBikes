{
 "cells": [
  {
   "cell_type": "code",
   "execution_count": 163,
   "metadata": {
    "collapsed": false
   },
   "outputs": [],
   "source": [
    "library(ggplot2)\n",
    "library(ggrepel)\n"
   ]
  },
  {
   "cell_type": "code",
   "execution_count": 153,
   "metadata": {
    "collapsed": false
   },
   "outputs": [
    {
     "name": "stderr",
     "output_type": "stream",
     "text": [
      "Updating HTML index of packages in '.Library'\n",
      "Making 'packages.html' ... done\n"
     ]
    }
   ],
   "source": [
    "install.packages(\"cowplot\")"
   ]
  },
  {
   "cell_type": "code",
   "execution_count": null,
   "metadata": {
    "collapsed": true
   },
   "outputs": [],
   "source": []
  },
  {
   "cell_type": "code",
   "execution_count": 154,
   "metadata": {
    "collapsed": false
   },
   "outputs": [],
   "source": [
    "tmp_sf <- read.csv('/Users/Robert/Documents/OrganizacionDeDatos/data/trip_station_in_sf_duration_mean_size_subcribers.csv')"
   ]
  },
  {
   "cell_type": "code",
   "execution_count": 155,
   "metadata": {
    "collapsed": false
   },
   "outputs": [],
   "source": [
    "tmp_sj <- read.csv('/Users/Robert/Documents/OrganizacionDeDatos/data/trip_station_in_sj_duration_mean_size_subcribers.csv')"
   ]
  },
  {
   "cell_type": "code",
   "execution_count": 156,
   "metadata": {
    "collapsed": true
   },
   "outputs": [],
   "source": [
    "tmp_rc_mv_pa <- read.csv('/Users/Robert/Documents/OrganizacionDeDatos/data/trip_station_in_rc_mv_pa_duration_mean_size_subcribers.csv')"
   ]
  },
  {
   "cell_type": "code",
   "execution_count": 157,
   "metadata": {
    "collapsed": true
   },
   "outputs": [],
   "source": [
    "station <- read.csv('/Users/Robert/Documents/OrganizacionDeDatos/data/station.csv')"
   ]
  },
  {
   "cell_type": "code",
   "execution_count": 158,
   "metadata": {
    "collapsed": false
   },
   "outputs": [
    {
     "data": {
      "text/html": [
       "1225"
      ],
      "text/latex": [
       "1225"
      ],
      "text/markdown": [
       "1225"
      ],
      "text/plain": [
       "[1] 1225"
      ]
     },
     "metadata": {},
     "output_type": "display_data"
    }
   ],
   "source": [
    "nrow(tmp_sf)"
   ]
  },
  {
   "cell_type": "code",
   "execution_count": 159,
   "metadata": {
    "collapsed": false
   },
   "outputs": [
    {
     "data": {
      "text/html": [
       "256"
      ],
      "text/latex": [
       "256"
      ],
      "text/markdown": [
       "256"
      ],
      "text/plain": [
       "[1] 256"
      ]
     },
     "metadata": {},
     "output_type": "display_data"
    }
   ],
   "source": [
    "nrow(tmp_sj)"
   ]
  },
  {
   "cell_type": "code",
   "execution_count": 160,
   "metadata": {
    "collapsed": false
   },
   "outputs": [
    {
     "data": {
      "text/html": [
       "166"
      ],
      "text/latex": [
       "166"
      ],
      "text/markdown": [
       "166"
      ],
      "text/plain": [
       "[1] 166"
      ]
     },
     "metadata": {},
     "output_type": "display_data"
    }
   ],
   "source": [
    "nrow(tmp_rc_mv_pa)"
   ]
  },
  {
   "cell_type": "code",
   "execution_count": 164,
   "metadata": {
    "collapsed": false
   },
   "outputs": [
    {
     "data": {
      "text/html": [
       "<ol class=list-inline>\n",
       "\t<li>San Jose</li>\n",
       "\t<li>San Jose</li>\n",
       "\t<li>San Jose</li>\n",
       "\t<li>San Jose</li>\n",
       "\t<li>San Jose</li>\n",
       "\t<li>San Jose</li>\n",
       "\t<li>San Jose</li>\n",
       "\t<li>San Jose</li>\n",
       "\t<li>San Jose</li>\n",
       "\t<li>San Jose</li>\n",
       "\t<li>San Jose</li>\n",
       "\t<li>San Jose</li>\n",
       "\t<li>San Jose</li>\n",
       "\t<li>San Jose</li>\n",
       "\t<li>Redwood City</li>\n",
       "\t<li>Redwood City</li>\n",
       "\t<li>Redwood City</li>\n",
       "\t<li>Redwood City</li>\n",
       "\t<li>Redwood City</li>\n",
       "\t<li>Redwood City</li>\n",
       "\t<li>Mountain View</li>\n",
       "\t<li>Mountain View</li>\n",
       "\t<li>Mountain View</li>\n",
       "\t<li>Mountain View</li>\n",
       "\t<li>Mountain View</li>\n",
       "\t<li>Mountain View</li>\n",
       "\t<li>Mountain View</li>\n",
       "\t<li>Palo Alto</li>\n",
       "\t<li>Palo Alto</li>\n",
       "\t<li>Palo Alto</li>\n",
       "\t<li>Palo Alto</li>\n",
       "\t<li>Palo Alto</li>\n",
       "\t<li>San Francisco</li>\n",
       "\t<li>San Francisco</li>\n",
       "\t<li>San Francisco</li>\n",
       "\t<li>San Francisco</li>\n",
       "\t<li>San Francisco</li>\n",
       "\t<li>San Francisco</li>\n",
       "\t<li>San Francisco</li>\n",
       "\t<li>San Francisco</li>\n",
       "\t<li>San Francisco</li>\n",
       "\t<li>San Francisco</li>\n",
       "\t<li>San Francisco</li>\n",
       "\t<li>San Francisco</li>\n",
       "\t<li>San Francisco</li>\n",
       "\t<li>San Francisco</li>\n",
       "\t<li>San Francisco</li>\n",
       "\t<li>San Francisco</li>\n",
       "\t<li>San Francisco</li>\n",
       "\t<li>San Francisco</li>\n",
       "\t<li>San Francisco</li>\n",
       "\t<li>San Francisco</li>\n",
       "\t<li>San Francisco</li>\n",
       "\t<li>San Francisco</li>\n",
       "\t<li>San Francisco</li>\n",
       "\t<li>San Francisco</li>\n",
       "\t<li>San Francisco</li>\n",
       "\t<li>San Francisco</li>\n",
       "\t<li>San Francisco</li>\n",
       "\t<li>San Francisco</li>\n",
       "\t<li>San Francisco</li>\n",
       "\t<li>San Francisco</li>\n",
       "\t<li>San Francisco</li>\n",
       "\t<li>San Francisco</li>\n",
       "\t<li>San Francisco</li>\n",
       "\t<li>San Francisco</li>\n",
       "\t<li>San Jose</li>\n",
       "\t<li>San Francisco</li>\n",
       "\t<li>Redwood City</li>\n",
       "\t<li>San Jose</li>\n",
       "</ol>\n"
      ],
      "text/latex": [
       "\\begin{enumerate*}\n",
       "\\item San Jose\n",
       "\\item San Jose\n",
       "\\item San Jose\n",
       "\\item San Jose\n",
       "\\item San Jose\n",
       "\\item San Jose\n",
       "\\item San Jose\n",
       "\\item San Jose\n",
       "\\item San Jose\n",
       "\\item San Jose\n",
       "\\item San Jose\n",
       "\\item San Jose\n",
       "\\item San Jose\n",
       "\\item San Jose\n",
       "\\item Redwood City\n",
       "\\item Redwood City\n",
       "\\item Redwood City\n",
       "\\item Redwood City\n",
       "\\item Redwood City\n",
       "\\item Redwood City\n",
       "\\item Mountain View\n",
       "\\item Mountain View\n",
       "\\item Mountain View\n",
       "\\item Mountain View\n",
       "\\item Mountain View\n",
       "\\item Mountain View\n",
       "\\item Mountain View\n",
       "\\item Palo Alto\n",
       "\\item Palo Alto\n",
       "\\item Palo Alto\n",
       "\\item Palo Alto\n",
       "\\item Palo Alto\n",
       "\\item San Francisco\n",
       "\\item San Francisco\n",
       "\\item San Francisco\n",
       "\\item San Francisco\n",
       "\\item San Francisco\n",
       "\\item San Francisco\n",
       "\\item San Francisco\n",
       "\\item San Francisco\n",
       "\\item San Francisco\n",
       "\\item San Francisco\n",
       "\\item San Francisco\n",
       "\\item San Francisco\n",
       "\\item San Francisco\n",
       "\\item San Francisco\n",
       "\\item San Francisco\n",
       "\\item San Francisco\n",
       "\\item San Francisco\n",
       "\\item San Francisco\n",
       "\\item San Francisco\n",
       "\\item San Francisco\n",
       "\\item San Francisco\n",
       "\\item San Francisco\n",
       "\\item San Francisco\n",
       "\\item San Francisco\n",
       "\\item San Francisco\n",
       "\\item San Francisco\n",
       "\\item San Francisco\n",
       "\\item San Francisco\n",
       "\\item San Francisco\n",
       "\\item San Francisco\n",
       "\\item San Francisco\n",
       "\\item San Francisco\n",
       "\\item San Francisco\n",
       "\\item San Francisco\n",
       "\\item San Jose\n",
       "\\item San Francisco\n",
       "\\item Redwood City\n",
       "\\item San Jose\n",
       "\\end{enumerate*}\n"
      ],
      "text/markdown": [
       "1. San Jose\n",
       "2. San Jose\n",
       "3. San Jose\n",
       "4. San Jose\n",
       "5. San Jose\n",
       "6. San Jose\n",
       "7. San Jose\n",
       "8. San Jose\n",
       "9. San Jose\n",
       "10. San Jose\n",
       "11. San Jose\n",
       "12. San Jose\n",
       "13. San Jose\n",
       "14. San Jose\n",
       "15. Redwood City\n",
       "16. Redwood City\n",
       "17. Redwood City\n",
       "18. Redwood City\n",
       "19. Redwood City\n",
       "20. Redwood City\n",
       "21. Mountain View\n",
       "22. Mountain View\n",
       "23. Mountain View\n",
       "24. Mountain View\n",
       "25. Mountain View\n",
       "26. Mountain View\n",
       "27. Mountain View\n",
       "28. Palo Alto\n",
       "29. Palo Alto\n",
       "30. Palo Alto\n",
       "31. Palo Alto\n",
       "32. Palo Alto\n",
       "33. San Francisco\n",
       "34. San Francisco\n",
       "35. San Francisco\n",
       "36. San Francisco\n",
       "37. San Francisco\n",
       "38. San Francisco\n",
       "39. San Francisco\n",
       "40. San Francisco\n",
       "41. San Francisco\n",
       "42. San Francisco\n",
       "43. San Francisco\n",
       "44. San Francisco\n",
       "45. San Francisco\n",
       "46. San Francisco\n",
       "47. San Francisco\n",
       "48. San Francisco\n",
       "49. San Francisco\n",
       "50. San Francisco\n",
       "51. San Francisco\n",
       "52. San Francisco\n",
       "53. San Francisco\n",
       "54. San Francisco\n",
       "55. San Francisco\n",
       "56. San Francisco\n",
       "57. San Francisco\n",
       "58. San Francisco\n",
       "59. San Francisco\n",
       "60. San Francisco\n",
       "61. San Francisco\n",
       "62. San Francisco\n",
       "63. San Francisco\n",
       "64. San Francisco\n",
       "65. San Francisco\n",
       "66. San Francisco\n",
       "67. San Jose\n",
       "68. San Francisco\n",
       "69. Redwood City\n",
       "70. San Jose\n",
       "\n",
       "\n"
      ],
      "text/plain": [
       " [1] San Jose      San Jose      San Jose      San Jose      San Jose     \n",
       " [6] San Jose      San Jose      San Jose      San Jose      San Jose     \n",
       "[11] San Jose      San Jose      San Jose      San Jose      Redwood City \n",
       "[16] Redwood City  Redwood City  Redwood City  Redwood City  Redwood City \n",
       "[21] Mountain View Mountain View Mountain View Mountain View Mountain View\n",
       "[26] Mountain View Mountain View Palo Alto     Palo Alto     Palo Alto    \n",
       "[31] Palo Alto     Palo Alto     San Francisco San Francisco San Francisco\n",
       "[36] San Francisco San Francisco San Francisco San Francisco San Francisco\n",
       "[41] San Francisco San Francisco San Francisco San Francisco San Francisco\n",
       "[46] San Francisco San Francisco San Francisco San Francisco San Francisco\n",
       "[51] San Francisco San Francisco San Francisco San Francisco San Francisco\n",
       "[56] San Francisco San Francisco San Francisco San Francisco San Francisco\n",
       "[61] San Francisco San Francisco San Francisco San Francisco San Francisco\n",
       "[66] San Francisco San Jose      San Francisco Redwood City  San Jose     \n",
       "Levels: Mountain View Palo Alto Redwood City San Francisco San Jose"
      ]
     },
     "metadata": {},
     "output_type": "display_data"
    }
   ],
   "source": [
    "station$city"
   ]
  },
  {
   "cell_type": "code",
   "execution_count": 165,
   "metadata": {
    "collapsed": false
   },
   "outputs": [],
   "source": [
    "station_sf <- station[station$city == \"San Francisco\", ]\n",
    "station_sj <- station[(station$city == \"San Jose\"), ]\n",
    "station_rc_mv_pa <- station[(station$city == \"Mountain View\") | (station$city == \"Redwood City\") |(station$city == \"Palo Alto\"),]"
   ]
  },
  {
   "cell_type": "code",
   "execution_count": 166,
   "metadata": {
    "collapsed": false
   },
   "outputs": [
    {
     "data": {
      "text/html": [
       "<table>\n",
       "<thead><tr><th></th><th scope=col>id</th><th scope=col>name</th><th scope=col>lat</th><th scope=col>long</th><th scope=col>dock_count</th><th scope=col>city</th><th scope=col>installation_date</th></tr></thead>\n",
       "<tbody>\n",
       "\t<tr><th scope=row>33</th><td>41                                           </td><td>Clay at Battery                              </td><td>37.79500                                     </td><td>-122.4000                                    </td><td>15                                           </td><td>San Francisco                                </td><td>8/19/2013                                    </td></tr>\n",
       "\t<tr><th scope=row>34</th><td>42                                           </td><td>Davis at Jackson                             </td><td>37.79728                                     </td><td>-122.3984                                    </td><td>15                                           </td><td>San Francisco                                </td><td>8/19/2013                                    </td></tr>\n",
       "\t<tr><th scope=row>35</th><td>45                                           </td><td>Commercial at Montgomery                     </td><td>37.79423                                     </td><td>-122.4029                                    </td><td>15                                           </td><td>San Francisco                                </td><td>8/19/2013                                    </td></tr>\n",
       "\t<tr><th scope=row>36</th><td>46                                           </td><td>Washington at Kearney                        </td><td>37.79543                                     </td><td>-122.4048                                    </td><td>15                                           </td><td>San Francisco                                </td><td>8/19/2013                                    </td></tr>\n",
       "\t<tr><th scope=row>37</th><td>47                                           </td><td>Post at Kearney                              </td><td>37.78898                                     </td><td>-122.4035                                    </td><td>19                                           </td><td>San Francisco                                </td><td>8/19/2013                                    </td></tr>\n",
       "\t<tr><th scope=row>38</th><td>48                                           </td><td>Embarcadero at Vallejo                       </td><td>37.79995                                     </td><td>-122.3985                                    </td><td>15                                           </td><td>San Francisco                                </td><td>8/19/2013                                    </td></tr>\n",
       "\t<tr><th scope=row>39</th><td>49                                           </td><td>Spear at Folsom                              </td><td>37.79030                                     </td><td>-122.3906                                    </td><td>19                                           </td><td>San Francisco                                </td><td>8/20/2013                                    </td></tr>\n",
       "\t<tr><th scope=row>40</th><td>50                                           </td><td>Harry Bridges Plaza (Ferry Building)         </td><td>37.79539                                     </td><td>-122.3942                                    </td><td>23                                           </td><td>San Francisco                                </td><td>8/20/2013                                    </td></tr>\n",
       "\t<tr><th scope=row>41</th><td>51                                           </td><td>Embarcadero at Folsom                        </td><td>37.79146                                     </td><td>-122.3910                                    </td><td>19                                           </td><td>San Francisco                                </td><td>8/20/2013                                    </td></tr>\n",
       "\t<tr><th scope=row>42</th><td>39                                           </td><td>Powell Street BART                           </td><td>37.78387                                     </td><td>-122.4084                                    </td><td>19                                           </td><td>San Francisco                                </td><td>8/25/2013                                    </td></tr>\n",
       "\t<tr><th scope=row>43</th><td>54                                           </td><td>Embarcadero at Bryant                        </td><td>37.78715                                     </td><td>-122.3880                                    </td><td>15                                           </td><td>San Francisco                                </td><td>8/20/2013                                    </td></tr>\n",
       "\t<tr><th scope=row>44</th><td>55                                           </td><td>Temporary Transbay Terminal (Howard at Beale)</td><td>37.78976                                     </td><td>-122.3946                                    </td><td>23                                           </td><td>San Francisco                                </td><td>8/20/2013                                    </td></tr>\n",
       "\t<tr><th scope=row>45</th><td>56                                           </td><td>Beale at Market                              </td><td>37.79225                                     </td><td>-122.3971                                    </td><td>19                                           </td><td>San Francisco                                </td><td>8/20/2013                                    </td></tr>\n",
       "\t<tr><th scope=row>46</th><td>57                                           </td><td>5th at Howard                                </td><td>37.78175                                     </td><td>-122.4051                                    </td><td>15                                           </td><td>San Francisco                                </td><td>8/21/2013                                    </td></tr>\n",
       "\t<tr><th scope=row>47</th><td>58                                           </td><td>San Francisco City Hall                      </td><td>37.77865                                     </td><td>-122.4182                                    </td><td>19                                           </td><td>San Francisco                                </td><td>8/21/2013                                    </td></tr>\n",
       "\t<tr><th scope=row>48</th><td>59                                           </td><td>Golden Gate at Polk                          </td><td>37.78133                                     </td><td>-122.4186                                    </td><td>23                                           </td><td>San Francisco                                </td><td>8/21/2013                                    </td></tr>\n",
       "\t<tr><th scope=row>49</th><td>60                                           </td><td>Embarcadero at Sansome                       </td><td>37.80477                                     </td><td>-122.4032                                    </td><td>15                                           </td><td>San Francisco                                </td><td>8/21/2013                                    </td></tr>\n",
       "\t<tr><th scope=row>50</th><td>61                                           </td><td>2nd at Townsend                              </td><td>37.78053                                     </td><td>-122.3903                                    </td><td>27                                           </td><td>San Francisco                                </td><td>8/22/2013                                    </td></tr>\n",
       "\t<tr><th scope=row>51</th><td>62                                           </td><td>2nd at Folsom                                </td><td>37.78530                                     </td><td>-122.3962                                    </td><td>19                                           </td><td>San Francisco                                </td><td>8/22/2013                                    </td></tr>\n",
       "\t<tr><th scope=row>52</th><td>63                                           </td><td>Howard at 2nd                                </td><td>37.78698                                     </td><td>-122.3981                                    </td><td>19                                           </td><td>San Francisco                                </td><td>8/22/2013                                    </td></tr>\n",
       "\t<tr><th scope=row>53</th><td>64                                           </td><td>2nd at South Park                            </td><td>37.78226                                     </td><td>-122.3927                                    </td><td>15                                           </td><td>San Francisco                                </td><td>8/22/2013                                    </td></tr>\n",
       "\t<tr><th scope=row>54</th><td>65                                           </td><td>Townsend at 7th                              </td><td>37.77106                                     </td><td>-122.4027                                    </td><td>15                                           </td><td>San Francisco                                </td><td>8/22/2013                                    </td></tr>\n",
       "\t<tr><th scope=row>55</th><td>66                                           </td><td>South Van Ness at Market                     </td><td>37.77481                                     </td><td>-122.4190                                    </td><td>19                                           </td><td>San Francisco                                </td><td>8/23/2013                                    </td></tr>\n",
       "\t<tr><th scope=row>56</th><td>67                                           </td><td>Market at 10th                               </td><td>37.77662                                     </td><td>-122.4174                                    </td><td>27                                           </td><td>San Francisco                                </td><td>8/23/2013                                    </td></tr>\n",
       "\t<tr><th scope=row>57</th><td>68                                           </td><td>Yerba Buena Center of the Arts (3rd @ Howard)</td><td>37.78488                                     </td><td>-122.4010                                    </td><td>19                                           </td><td>San Francisco                                </td><td>8/23/2013                                    </td></tr>\n",
       "\t<tr><th scope=row>58</th><td>69                                           </td><td>San Francisco Caltrain 2 (330 Townsend)      </td><td>37.77660                                     </td><td>-122.3955                                    </td><td>23                                           </td><td>San Francisco                                </td><td>8/23/2013                                    </td></tr>\n",
       "\t<tr><th scope=row>59</th><td>70                                           </td><td>San Francisco Caltrain (Townsend at 4th)     </td><td>37.77662                                     </td><td>-122.3953                                    </td><td>19                                           </td><td>San Francisco                                </td><td>8/23/2013                                    </td></tr>\n",
       "\t<tr><th scope=row>60</th><td>71                                           </td><td>Powell at Post (Union Square)                </td><td>37.78845                                     </td><td>-122.4085                                    </td><td>19                                           </td><td>San Francisco                                </td><td>8/23/2013                                    </td></tr>\n",
       "\t<tr><th scope=row>61</th><td>72                                           </td><td>Civic Center BART (7th at Market)            </td><td>37.78104                                     </td><td>-122.4117                                    </td><td>23                                           </td><td>San Francisco                                </td><td>8/23/2013                                    </td></tr>\n",
       "\t<tr><th scope=row>62</th><td>73                                           </td><td>Grant Avenue at Columbus Avenue              </td><td>37.79852                                     </td><td>-122.4072                                    </td><td>15                                           </td><td>San Francisco                                </td><td>8/21/2013                                    </td></tr>\n",
       "\t<tr><th scope=row>63</th><td>74                                           </td><td>Steuart at Market                            </td><td>37.79414                                     </td><td>-122.3944                                    </td><td>23                                           </td><td>San Francisco                                </td><td>8/25/2013                                    </td></tr>\n",
       "\t<tr><th scope=row>64</th><td>75                                           </td><td>Mechanics Plaza (Market at Battery)          </td><td>37.79130                                     </td><td>-122.3991                                    </td><td>19                                           </td><td>San Francisco                                </td><td>8/25/2013                                    </td></tr>\n",
       "\t<tr><th scope=row>65</th><td>76                                           </td><td>Market at 4th                                </td><td>37.78630                                     </td><td>-122.4050                                    </td><td>19                                           </td><td>San Francisco                                </td><td>8/25/2013                                    </td></tr>\n",
       "\t<tr><th scope=row>66</th><td>77                                           </td><td>Market at Sansome                            </td><td>37.78963                                     </td><td>-122.4008                                    </td><td>27                                           </td><td>San Francisco                                </td><td>8/25/2013                                    </td></tr>\n",
       "\t<tr><th scope=row>68</th><td>82                                           </td><td>Broadway St at Battery St                    </td><td>37.79854                                     </td><td>-122.4009                                    </td><td>15                                           </td><td>San Francisco                                </td><td>1/22/2014                                    </td></tr>\n",
       "</tbody>\n",
       "</table>\n"
      ],
      "text/latex": [
       "\\begin{tabular}{r|lllllll}\n",
       "  & id & name & lat & long & dock\\_count & city & installation\\_date\\\\\n",
       "\\hline\n",
       "\t33 & 41                                            & Clay at Battery                               & 37.79500                                      & -122.4000                                     & 15                                            & San Francisco                                 & 8/19/2013                                    \\\\\n",
       "\t34 & 42                                            & Davis at Jackson                              & 37.79728                                      & -122.3984                                     & 15                                            & San Francisco                                 & 8/19/2013                                    \\\\\n",
       "\t35 & 45                                            & Commercial at Montgomery                      & 37.79423                                      & -122.4029                                     & 15                                            & San Francisco                                 & 8/19/2013                                    \\\\\n",
       "\t36 & 46                                            & Washington at Kearney                         & 37.79543                                      & -122.4048                                     & 15                                            & San Francisco                                 & 8/19/2013                                    \\\\\n",
       "\t37 & 47                                            & Post at Kearney                               & 37.78898                                      & -122.4035                                     & 19                                            & San Francisco                                 & 8/19/2013                                    \\\\\n",
       "\t38 & 48                                            & Embarcadero at Vallejo                        & 37.79995                                      & -122.3985                                     & 15                                            & San Francisco                                 & 8/19/2013                                    \\\\\n",
       "\t39 & 49                                            & Spear at Folsom                               & 37.79030                                      & -122.3906                                     & 19                                            & San Francisco                                 & 8/20/2013                                    \\\\\n",
       "\t40 & 50                                            & Harry Bridges Plaza (Ferry Building)          & 37.79539                                      & -122.3942                                     & 23                                            & San Francisco                                 & 8/20/2013                                    \\\\\n",
       "\t41 & 51                                            & Embarcadero at Folsom                         & 37.79146                                      & -122.3910                                     & 19                                            & San Francisco                                 & 8/20/2013                                    \\\\\n",
       "\t42 & 39                                            & Powell Street BART                            & 37.78387                                      & -122.4084                                     & 19                                            & San Francisco                                 & 8/25/2013                                    \\\\\n",
       "\t43 & 54                                            & Embarcadero at Bryant                         & 37.78715                                      & -122.3880                                     & 15                                            & San Francisco                                 & 8/20/2013                                    \\\\\n",
       "\t44 & 55                                            & Temporary Transbay Terminal (Howard at Beale) & 37.78976                                      & -122.3946                                     & 23                                            & San Francisco                                 & 8/20/2013                                    \\\\\n",
       "\t45 & 56                                            & Beale at Market                               & 37.79225                                      & -122.3971                                     & 19                                            & San Francisco                                 & 8/20/2013                                    \\\\\n",
       "\t46 & 57                                            & 5th at Howard                                 & 37.78175                                      & -122.4051                                     & 15                                            & San Francisco                                 & 8/21/2013                                    \\\\\n",
       "\t47 & 58                                            & San Francisco City Hall                       & 37.77865                                      & -122.4182                                     & 19                                            & San Francisco                                 & 8/21/2013                                    \\\\\n",
       "\t48 & 59                                            & Golden Gate at Polk                           & 37.78133                                      & -122.4186                                     & 23                                            & San Francisco                                 & 8/21/2013                                    \\\\\n",
       "\t49 & 60                                            & Embarcadero at Sansome                        & 37.80477                                      & -122.4032                                     & 15                                            & San Francisco                                 & 8/21/2013                                    \\\\\n",
       "\t50 & 61                                            & 2nd at Townsend                               & 37.78053                                      & -122.3903                                     & 27                                            & San Francisco                                 & 8/22/2013                                    \\\\\n",
       "\t51 & 62                                            & 2nd at Folsom                                 & 37.78530                                      & -122.3962                                     & 19                                            & San Francisco                                 & 8/22/2013                                    \\\\\n",
       "\t52 & 63                                            & Howard at 2nd                                 & 37.78698                                      & -122.3981                                     & 19                                            & San Francisco                                 & 8/22/2013                                    \\\\\n",
       "\t53 & 64                                            & 2nd at South Park                             & 37.78226                                      & -122.3927                                     & 15                                            & San Francisco                                 & 8/22/2013                                    \\\\\n",
       "\t54 & 65                                            & Townsend at 7th                               & 37.77106                                      & -122.4027                                     & 15                                            & San Francisco                                 & 8/22/2013                                    \\\\\n",
       "\t55 & 66                                            & South Van Ness at Market                      & 37.77481                                      & -122.4190                                     & 19                                            & San Francisco                                 & 8/23/2013                                    \\\\\n",
       "\t56 & 67                                            & Market at 10th                                & 37.77662                                      & -122.4174                                     & 27                                            & San Francisco                                 & 8/23/2013                                    \\\\\n",
       "\t57 & 68                                            & Yerba Buena Center of the Arts (3rd @ Howard) & 37.78488                                      & -122.4010                                     & 19                                            & San Francisco                                 & 8/23/2013                                    \\\\\n",
       "\t58 & 69                                            & San Francisco Caltrain 2 (330 Townsend)       & 37.77660                                      & -122.3955                                     & 23                                            & San Francisco                                 & 8/23/2013                                    \\\\\n",
       "\t59 & 70                                            & San Francisco Caltrain (Townsend at 4th)      & 37.77662                                      & -122.3953                                     & 19                                            & San Francisco                                 & 8/23/2013                                    \\\\\n",
       "\t60 & 71                                            & Powell at Post (Union Square)                 & 37.78845                                      & -122.4085                                     & 19                                            & San Francisco                                 & 8/23/2013                                    \\\\\n",
       "\t61 & 72                                            & Civic Center BART (7th at Market)             & 37.78104                                      & -122.4117                                     & 23                                            & San Francisco                                 & 8/23/2013                                    \\\\\n",
       "\t62 & 73                                            & Grant Avenue at Columbus Avenue               & 37.79852                                      & -122.4072                                     & 15                                            & San Francisco                                 & 8/21/2013                                    \\\\\n",
       "\t63 & 74                                            & Steuart at Market                             & 37.79414                                      & -122.3944                                     & 23                                            & San Francisco                                 & 8/25/2013                                    \\\\\n",
       "\t64 & 75                                            & Mechanics Plaza (Market at Battery)           & 37.79130                                      & -122.3991                                     & 19                                            & San Francisco                                 & 8/25/2013                                    \\\\\n",
       "\t65 & 76                                            & Market at 4th                                 & 37.78630                                      & -122.4050                                     & 19                                            & San Francisco                                 & 8/25/2013                                    \\\\\n",
       "\t66 & 77                                            & Market at Sansome                             & 37.78963                                      & -122.4008                                     & 27                                            & San Francisco                                 & 8/25/2013                                    \\\\\n",
       "\t68 & 82                                            & Broadway St at Battery St                     & 37.79854                                      & -122.4009                                     & 15                                            & San Francisco                                 & 1/22/2014                                    \\\\\n",
       "\\end{tabular}\n"
      ],
      "text/markdown": [
       "\n",
       "| <!--/--> | id | name | lat | long | dock_count | city | installation_date | \n",
       "|---|---|---|---|---|---|---|---|---|---|---|---|---|---|---|---|---|---|---|---|---|---|---|---|---|---|---|---|---|---|---|---|---|---|---|\n",
       "| 33 | 41                                            | Clay at Battery                               | 37.79500                                      | -122.4000                                     | 15                                            | San Francisco                                 | 8/19/2013                                     | \n",
       "| 34 | 42                                            | Davis at Jackson                              | 37.79728                                      | -122.3984                                     | 15                                            | San Francisco                                 | 8/19/2013                                     | \n",
       "| 35 | 45                                            | Commercial at Montgomery                      | 37.79423                                      | -122.4029                                     | 15                                            | San Francisco                                 | 8/19/2013                                     | \n",
       "| 36 | 46                                            | Washington at Kearney                         | 37.79543                                      | -122.4048                                     | 15                                            | San Francisco                                 | 8/19/2013                                     | \n",
       "| 37 | 47                                            | Post at Kearney                               | 37.78898                                      | -122.4035                                     | 19                                            | San Francisco                                 | 8/19/2013                                     | \n",
       "| 38 | 48                                            | Embarcadero at Vallejo                        | 37.79995                                      | -122.3985                                     | 15                                            | San Francisco                                 | 8/19/2013                                     | \n",
       "| 39 | 49                                            | Spear at Folsom                               | 37.79030                                      | -122.3906                                     | 19                                            | San Francisco                                 | 8/20/2013                                     | \n",
       "| 40 | 50                                            | Harry Bridges Plaza (Ferry Building)          | 37.79539                                      | -122.3942                                     | 23                                            | San Francisco                                 | 8/20/2013                                     | \n",
       "| 41 | 51                                            | Embarcadero at Folsom                         | 37.79146                                      | -122.3910                                     | 19                                            | San Francisco                                 | 8/20/2013                                     | \n",
       "| 42 | 39                                            | Powell Street BART                            | 37.78387                                      | -122.4084                                     | 19                                            | San Francisco                                 | 8/25/2013                                     | \n",
       "| 43 | 54                                            | Embarcadero at Bryant                         | 37.78715                                      | -122.3880                                     | 15                                            | San Francisco                                 | 8/20/2013                                     | \n",
       "| 44 | 55                                            | Temporary Transbay Terminal (Howard at Beale) | 37.78976                                      | -122.3946                                     | 23                                            | San Francisco                                 | 8/20/2013                                     | \n",
       "| 45 | 56                                            | Beale at Market                               | 37.79225                                      | -122.3971                                     | 19                                            | San Francisco                                 | 8/20/2013                                     | \n",
       "| 46 | 57                                            | 5th at Howard                                 | 37.78175                                      | -122.4051                                     | 15                                            | San Francisco                                 | 8/21/2013                                     | \n",
       "| 47 | 58                                            | San Francisco City Hall                       | 37.77865                                      | -122.4182                                     | 19                                            | San Francisco                                 | 8/21/2013                                     | \n",
       "| 48 | 59                                            | Golden Gate at Polk                           | 37.78133                                      | -122.4186                                     | 23                                            | San Francisco                                 | 8/21/2013                                     | \n",
       "| 49 | 60                                            | Embarcadero at Sansome                        | 37.80477                                      | -122.4032                                     | 15                                            | San Francisco                                 | 8/21/2013                                     | \n",
       "| 50 | 61                                            | 2nd at Townsend                               | 37.78053                                      | -122.3903                                     | 27                                            | San Francisco                                 | 8/22/2013                                     | \n",
       "| 51 | 62                                            | 2nd at Folsom                                 | 37.78530                                      | -122.3962                                     | 19                                            | San Francisco                                 | 8/22/2013                                     | \n",
       "| 52 | 63                                            | Howard at 2nd                                 | 37.78698                                      | -122.3981                                     | 19                                            | San Francisco                                 | 8/22/2013                                     | \n",
       "| 53 | 64                                            | 2nd at South Park                             | 37.78226                                      | -122.3927                                     | 15                                            | San Francisco                                 | 8/22/2013                                     | \n",
       "| 54 | 65                                            | Townsend at 7th                               | 37.77106                                      | -122.4027                                     | 15                                            | San Francisco                                 | 8/22/2013                                     | \n",
       "| 55 | 66                                            | South Van Ness at Market                      | 37.77481                                      | -122.4190                                     | 19                                            | San Francisco                                 | 8/23/2013                                     | \n",
       "| 56 | 67                                            | Market at 10th                                | 37.77662                                      | -122.4174                                     | 27                                            | San Francisco                                 | 8/23/2013                                     | \n",
       "| 57 | 68                                            | Yerba Buena Center of the Arts (3rd @ Howard) | 37.78488                                      | -122.4010                                     | 19                                            | San Francisco                                 | 8/23/2013                                     | \n",
       "| 58 | 69                                            | San Francisco Caltrain 2 (330 Townsend)       | 37.77660                                      | -122.3955                                     | 23                                            | San Francisco                                 | 8/23/2013                                     | \n",
       "| 59 | 70                                            | San Francisco Caltrain (Townsend at 4th)      | 37.77662                                      | -122.3953                                     | 19                                            | San Francisco                                 | 8/23/2013                                     | \n",
       "| 60 | 71                                            | Powell at Post (Union Square)                 | 37.78845                                      | -122.4085                                     | 19                                            | San Francisco                                 | 8/23/2013                                     | \n",
       "| 61 | 72                                            | Civic Center BART (7th at Market)             | 37.78104                                      | -122.4117                                     | 23                                            | San Francisco                                 | 8/23/2013                                     | \n",
       "| 62 | 73                                            | Grant Avenue at Columbus Avenue               | 37.79852                                      | -122.4072                                     | 15                                            | San Francisco                                 | 8/21/2013                                     | \n",
       "| 63 | 74                                            | Steuart at Market                             | 37.79414                                      | -122.3944                                     | 23                                            | San Francisco                                 | 8/25/2013                                     | \n",
       "| 64 | 75                                            | Mechanics Plaza (Market at Battery)           | 37.79130                                      | -122.3991                                     | 19                                            | San Francisco                                 | 8/25/2013                                     | \n",
       "| 65 | 76                                            | Market at 4th                                 | 37.78630                                      | -122.4050                                     | 19                                            | San Francisco                                 | 8/25/2013                                     | \n",
       "| 66 | 77                                            | Market at Sansome                             | 37.78963                                      | -122.4008                                     | 27                                            | San Francisco                                 | 8/25/2013                                     | \n",
       "| 68 | 82                                            | Broadway St at Battery St                     | 37.79854                                      | -122.4009                                     | 15                                            | San Francisco                                 | 1/22/2014                                     | \n",
       "\n",
       "\n"
      ],
      "text/plain": [
       "   id name                                          lat      long     \n",
       "33 41 Clay at Battery                               37.79500 -122.4000\n",
       "34 42 Davis at Jackson                              37.79728 -122.3984\n",
       "35 45 Commercial at Montgomery                      37.79423 -122.4029\n",
       "36 46 Washington at Kearney                         37.79543 -122.4048\n",
       "37 47 Post at Kearney                               37.78898 -122.4035\n",
       "38 48 Embarcadero at Vallejo                        37.79995 -122.3985\n",
       "39 49 Spear at Folsom                               37.79030 -122.3906\n",
       "40 50 Harry Bridges Plaza (Ferry Building)          37.79539 -122.3942\n",
       "41 51 Embarcadero at Folsom                         37.79146 -122.3910\n",
       "42 39 Powell Street BART                            37.78387 -122.4084\n",
       "43 54 Embarcadero at Bryant                         37.78715 -122.3880\n",
       "44 55 Temporary Transbay Terminal (Howard at Beale) 37.78976 -122.3946\n",
       "45 56 Beale at Market                               37.79225 -122.3971\n",
       "46 57 5th at Howard                                 37.78175 -122.4051\n",
       "47 58 San Francisco City Hall                       37.77865 -122.4182\n",
       "48 59 Golden Gate at Polk                           37.78133 -122.4186\n",
       "49 60 Embarcadero at Sansome                        37.80477 -122.4032\n",
       "50 61 2nd at Townsend                               37.78053 -122.3903\n",
       "51 62 2nd at Folsom                                 37.78530 -122.3962\n",
       "52 63 Howard at 2nd                                 37.78698 -122.3981\n",
       "53 64 2nd at South Park                             37.78226 -122.3927\n",
       "54 65 Townsend at 7th                               37.77106 -122.4027\n",
       "55 66 South Van Ness at Market                      37.77481 -122.4190\n",
       "56 67 Market at 10th                                37.77662 -122.4174\n",
       "57 68 Yerba Buena Center of the Arts (3rd @ Howard) 37.78488 -122.4010\n",
       "58 69 San Francisco Caltrain 2 (330 Townsend)       37.77660 -122.3955\n",
       "59 70 San Francisco Caltrain (Townsend at 4th)      37.77662 -122.3953\n",
       "60 71 Powell at Post (Union Square)                 37.78845 -122.4085\n",
       "61 72 Civic Center BART (7th at Market)             37.78104 -122.4117\n",
       "62 73 Grant Avenue at Columbus Avenue               37.79852 -122.4072\n",
       "63 74 Steuart at Market                             37.79414 -122.3944\n",
       "64 75 Mechanics Plaza (Market at Battery)           37.79130 -122.3991\n",
       "65 76 Market at 4th                                 37.78630 -122.4050\n",
       "66 77 Market at Sansome                             37.78963 -122.4008\n",
       "68 82 Broadway St at Battery St                     37.79854 -122.4009\n",
       "   dock_count city          installation_date\n",
       "33 15         San Francisco 8/19/2013        \n",
       "34 15         San Francisco 8/19/2013        \n",
       "35 15         San Francisco 8/19/2013        \n",
       "36 15         San Francisco 8/19/2013        \n",
       "37 19         San Francisco 8/19/2013        \n",
       "38 15         San Francisco 8/19/2013        \n",
       "39 19         San Francisco 8/20/2013        \n",
       "40 23         San Francisco 8/20/2013        \n",
       "41 19         San Francisco 8/20/2013        \n",
       "42 19         San Francisco 8/25/2013        \n",
       "43 15         San Francisco 8/20/2013        \n",
       "44 23         San Francisco 8/20/2013        \n",
       "45 19         San Francisco 8/20/2013        \n",
       "46 15         San Francisco 8/21/2013        \n",
       "47 19         San Francisco 8/21/2013        \n",
       "48 23         San Francisco 8/21/2013        \n",
       "49 15         San Francisco 8/21/2013        \n",
       "50 27         San Francisco 8/22/2013        \n",
       "51 19         San Francisco 8/22/2013        \n",
       "52 19         San Francisco 8/22/2013        \n",
       "53 15         San Francisco 8/22/2013        \n",
       "54 15         San Francisco 8/22/2013        \n",
       "55 19         San Francisco 8/23/2013        \n",
       "56 27         San Francisco 8/23/2013        \n",
       "57 19         San Francisco 8/23/2013        \n",
       "58 23         San Francisco 8/23/2013        \n",
       "59 19         San Francisco 8/23/2013        \n",
       "60 19         San Francisco 8/23/2013        \n",
       "61 23         San Francisco 8/23/2013        \n",
       "62 15         San Francisco 8/21/2013        \n",
       "63 23         San Francisco 8/25/2013        \n",
       "64 19         San Francisco 8/25/2013        \n",
       "65 19         San Francisco 8/25/2013        \n",
       "66 27         San Francisco 8/25/2013        \n",
       "68 15         San Francisco 1/22/2014        "
      ]
     },
     "metadata": {},
     "output_type": "display_data"
    }
   ],
   "source": [
    "station_sf "
   ]
  },
  {
   "cell_type": "code",
   "execution_count": 167,
   "metadata": {
    "collapsed": false
   },
   "outputs": [
    {
     "data": {
      "text/html": [
       "1098"
      ],
      "text/latex": [
       "1098"
      ],
      "text/markdown": [
       "1098"
      ],
      "text/plain": [
       "[1] 1098"
      ]
     },
     "metadata": {},
     "output_type": "display_data"
    }
   ],
   "source": [
    "# filtro por 50 viajes al menos.\n",
    "tmp_sf <- tmp_sf[(tmp_sf$size) > 50,]\n",
    "nrow(tmp_sf)"
   ]
  },
  {
   "cell_type": "code",
   "execution_count": 168,
   "metadata": {
    "collapsed": false
   },
   "outputs": [
    {
     "name": "stderr",
     "output_type": "stream",
     "text": [
      "Warning message:\n",
      "“Removed 64 rows containing missing values (geom_segment).”"
     ]
    }
   ],
   "source": [
    "p <- ggplot(tmp_sf) +ggtitle(\"Viajes de subcribers en San Francisco\") +\n",
    "     geom_segment(aes(x=long_x, xend=long_y, y=lat_x, yend=lat_y,size=size, colour=mean, alpha=mean)) +\n",
    "     geom_point(data=station_sf , aes(x=long, y=lat), size=2) +\n",
    "     geom_text_repel(data=station_sf, aes(x=long, y=lat, label=name), size=4) +\n",
    "     theme_light(base_size=10) +\n",
    "     scale_colour_gradientn(colors=c(\"#fffe85\", \"#17409a\"), limits=c(0, max(tmp_sf$mean)), name=\"Mean-Duration[secs]\") +\n",
    "     scale_alpha(limits=c(0, max(tmp_sf$mean)), guide=FALSE) +\n",
    "     scale_size(limits=c(0, max(tmp_sf$mean)), guide=FALSE) +\n",
    "     xlab(\"\") +\n",
    "     ylab(\"\") +\n",
    "     coord_fixed() +\n",
    "     theme(axis.line=element_blank(),\n",
    "           axis.text.x=element_blank(),\n",
    "           axis.text.y=element_blank(),\n",
    "           axis.ticks=element_blank(),\n",
    "           axis.title.x=element_blank(),\n",
    "           axis.title.y=element_blank(),\n",
    "           panel.grid=element_blank(),\n",
    "           panel.border=element_blank())\n",
    "p <- add_sub(p, \"Se filtró por horarios de 5am a 20pm(horarios regulares de uso).\\\n",
    "                 Por una duración de rango [0 secs..7200 secs] y 50 viajes al menos registrados por cada trayecto\")    \n",
    "\n",
    "ggsave(\"sfBikes/visu/trip_station_in_sf_duration_mean_size_subcribers.png\", p, width=10, height=10, units=\"in\")"
   ]
  },
  {
   "cell_type": "code",
   "execution_count": 169,
   "metadata": {
    "collapsed": false
   },
   "outputs": [],
   "source": [
    "p <- ggplot(tmp_sf) +ggtitle(\"Viajes de subcribers en San Francisco\") +\n",
    "     geom_segment(aes(x=long_x, xend=long_y, y=lat_x, yend=lat_y, size= size, colour=size, alpha=size)) +\n",
    "     geom_point(data=station_sf , aes(x=long, y=lat), size=2) +\n",
    "     geom_text_repel(data=station_sf, aes(x=long, y=lat, label=name), size=4) +\n",
    "     theme_light(base_size=10) +\n",
    "     scale_colour_gradientn(colors=c(\"#fffe85\", \"#17409a\"), limits=c(0, max(tmp_sf$size)), name=\"Count trips\") +\n",
    "     scale_alpha(limits=c(0, max(tmp_sf$size)), guide=FALSE) +\n",
    "     scale_size(limits=c(0, max(tmp_sf$size)), guide=FALSE) +\n",
    "     xlab(\"\") +\n",
    "     ylab(\"\") +\n",
    "     coord_fixed() +\n",
    "      theme(axis.line=element_blank(),\n",
    "           axis.text.x=element_blank(),\n",
    "           axis.text.y=element_blank(),\n",
    "           axis.ticks=element_blank(),\n",
    "           axis.title.x=element_blank(),\n",
    "           axis.title.y=element_blank(),\n",
    "           panel.grid=element_blank(),\n",
    "           panel.border=element_blank())\n",
    "\n",
    "p <- add_sub(p, \"Se filtró por horarios de 5am a 20pm(horarios regulares de uso).\\\n",
    "                 Y por una duración de rango [0 secs..7200 secs]\") \n",
    "\n",
    "ggsave(\"sfBikes/visu/trip_station_in_sf_count_trips_subcribers.png\", p, width=10, height=10, units=\"in\")"
   ]
  },
  {
   "cell_type": "code",
   "execution_count": 170,
   "metadata": {
    "collapsed": false
   },
   "outputs": [
    {
     "data": {
      "text/html": [
       "256"
      ],
      "text/latex": [
       "256"
      ],
      "text/markdown": [
       "256"
      ],
      "text/plain": [
       "[1] 256"
      ]
     },
     "metadata": {},
     "output_type": "display_data"
    }
   ],
   "source": [
    "# filtro por 50 viajes al menos.\n",
    "nrow(tmp_sj)"
   ]
  },
  {
   "cell_type": "code",
   "execution_count": 171,
   "metadata": {
    "collapsed": false
   },
   "outputs": [],
   "source": [
    "tmp_sj <- tmp_sj[(tmp_sj$size) > 10,]"
   ]
  },
  {
   "cell_type": "code",
   "execution_count": 172,
   "metadata": {
    "collapsed": false
   },
   "outputs": [],
   "source": [
    "p <- ggplot(tmp_sj) +ggtitle(\"Viajes de subcribers en San Jose\") +\n",
    "     geom_segment(aes(x=long_x, xend=long_y, y=lat_x, yend=lat_y,size=mean, colour=mean, alpha=mean)) +\n",
    "     geom_point(data=station_sj , aes(x=long, y=lat), size=2) +\n",
    "     geom_text_repel(data=station_sj, aes(x=long, y=lat, label=name), size=4) +\n",
    "     theme_light(base_size=10) +\n",
    "     scale_colour_gradientn(colors=c(\"#fffe85\", \"#17409a\"), limits=c(0, max(tmp_sj$mean)), name=\"Mean-Duration[secs]\") +\n",
    "     scale_alpha(limits=c(0, max(tmp_sj$mean)), guide=FALSE) +\n",
    "     scale_size(limits=c(0, max(tmp_sj$mean)), guide=FALSE) +\n",
    "     xlab(\"\") +\n",
    "     ylab(\"\") +\n",
    "     coord_fixed() +\n",
    "     theme(axis.line=element_blank(),\n",
    "           axis.text.x=element_blank(),\n",
    "           axis.text.y=element_blank(),\n",
    "           axis.ticks=element_blank(),\n",
    "           axis.title.x=element_blank(),\n",
    "           axis.title.y=element_blank(),\n",
    "           panel.grid=element_blank(),\n",
    "           panel.border=element_blank())\n",
    "\n",
    "p <- add_sub(p, \"Se filtró por horarios de 5am a 20pm(horarios regulares de uso).\\\n",
    "                 Por una duración de rango [0 secs..7200 secs] y 10 viajes al menos registrados por cada trayecto\") \n",
    "\n",
    "ggsave(\"sfBikes/visu/trip_station_in_sj_duration_mean_size_subcribers.png\", p, width=10, height=6, units=\"in\")"
   ]
  },
  {
   "cell_type": "code",
   "execution_count": 173,
   "metadata": {
    "collapsed": true
   },
   "outputs": [],
   "source": [
    "p <- ggplot(tmp_sj) +ggtitle(\"Viajes de subcribers en San Jose\") +\n",
    "     geom_segment(aes(x=long_x, xend=long_y, y=lat_x, yend=lat_y, size= size, colour=size, alpha=size)) +\n",
    "     geom_point(data=station_sj , aes(x=long, y=lat), size=2) +\n",
    "     geom_text_repel(data=station_sj, aes(x=long, y=lat, label=name), size=4) +\n",
    "     theme_light(base_size=10) +\n",
    "     scale_colour_gradientn(colors=c(\"#fffe85\", \"#17409a\"), limits=c(0, max(tmp_sj$size)), name=\"Count trips\") +\n",
    "     scale_alpha(limits=c(0, max(tmp_sj$size)), guide=FALSE) +\n",
    "     scale_size(limits=c(0, max(tmp_sj$size)), guide=FALSE) +\n",
    "     xlab(\"\") +\n",
    "     ylab(\"\") +\n",
    "     coord_fixed() +\n",
    "     theme(axis.line=element_blank(),\n",
    "           axis.text.x=element_blank(),\n",
    "           axis.text.y=element_blank(),\n",
    "           axis.ticks=element_blank(),\n",
    "           axis.title.x=element_blank(),\n",
    "           axis.title.y=element_blank(),\n",
    "           panel.grid=element_blank(),\n",
    "           panel.border=element_blank())\n",
    "\n",
    "p <- add_sub(p, \"Se filtró por horarios de 5am a 20pm(horarios regulares de uso).\\\n",
    "                 Y por una duración de rango [0 secs..7200 secs]\") \n",
    "\n",
    "ggsave(\"sfBikes/visu/trip_station_in_sj_count_trips_subcribers.png\", p, width=10, height=6, units=\"in\")"
   ]
  },
  {
   "cell_type": "code",
   "execution_count": 174,
   "metadata": {
    "collapsed": false
   },
   "outputs": [
    {
     "data": {
      "text/html": [
       "166"
      ],
      "text/latex": [
       "166"
      ],
      "text/markdown": [
       "166"
      ],
      "text/plain": [
       "[1] 166"
      ]
     },
     "metadata": {},
     "output_type": "display_data"
    }
   ],
   "source": [
    "nrow(tmp_rc_mv_pa)"
   ]
  },
  {
   "cell_type": "code",
   "execution_count": 175,
   "metadata": {
    "collapsed": false
   },
   "outputs": [
    {
     "data": {
      "text/html": [
       "<table>\n",
       "<thead><tr><th scope=col>long_x</th><th scope=col>lat_x</th><th scope=col>long_y</th><th scope=col>lat_y</th><th scope=col>mean</th><th scope=col>size</th></tr></thead>\n",
       "<tbody>\n",
       "\t<tr><td>-122.2362</td><td>37.49127 </td><td>-122.2362</td><td>37.49127 </td><td>1573.5000</td><td>  8      </td></tr>\n",
       "\t<tr><td>-122.2362</td><td>37.49127 </td><td>-122.2321</td><td>37.48608 </td><td> 311.2290</td><td>262      </td></tr>\n",
       "\t<tr><td>-122.2362</td><td>37.49127 </td><td>-122.2300</td><td>37.48762 </td><td> 418.7000</td><td> 10      </td></tr>\n",
       "\t<tr><td>-122.2362</td><td>37.49127 </td><td>-122.2274</td><td>37.48422 </td><td> 819.8571</td><td>  7      </td></tr>\n",
       "\t<tr><td>-122.2362</td><td>37.49127 </td><td>-122.2033</td><td>37.48537 </td><td> 382.0000</td><td>  1      </td></tr>\n",
       "\t<tr><td>-122.2362</td><td>37.49127 </td><td>-122.1428</td><td>37.42908 </td><td>2300.0000</td><td>  1      </td></tr>\n",
       "\t<tr><td>-122.2321</td><td>37.48608 </td><td>-122.2362</td><td>37.49127 </td><td> 364.5667</td><td>180      </td></tr>\n",
       "\t<tr><td>-122.2321</td><td>37.48608 </td><td>-122.2321</td><td>37.48608 </td><td> 681.8462</td><td> 39      </td></tr>\n",
       "\t<tr><td>-122.2321</td><td>37.48608 </td><td>-122.2300</td><td>37.48762 </td><td> 200.5528</td><td>123      </td></tr>\n",
       "\t<tr><td>-122.2321</td><td>37.48608 </td><td>-122.2274</td><td>37.48422 </td><td> 367.3229</td><td> 96      </td></tr>\n",
       "\t<tr><td>-122.2321</td><td>37.48608 </td><td>-122.2269</td><td>37.48176 </td><td> 308.2823</td><td>124      </td></tr>\n",
       "\t<tr><td>-122.2321</td><td>37.48608 </td><td>-122.2235</td><td>37.48768 </td><td> 340.6793</td><td>343      </td></tr>\n",
       "\t<tr><td>-122.2321</td><td>37.48608 </td><td>-122.2033</td><td>37.48537 </td><td> 733.0173</td><td>289      </td></tr>\n",
       "\t<tr><td>-122.2321</td><td>37.48608 </td><td>-122.1648</td><td>37.44399 </td><td>1767.5385</td><td> 13      </td></tr>\n",
       "\t<tr><td>-122.2321</td><td>37.48608 </td><td>-122.1595</td><td>37.44860 </td><td>1759.0000</td><td>  1      </td></tr>\n",
       "\t<tr><td>-122.2321</td><td>37.48608 </td><td>-122.1428</td><td>37.42908 </td><td>2457.0000</td><td>  1      </td></tr>\n",
       "\t<tr><td>-122.2321</td><td>37.48608 </td><td>-122.1378</td><td>37.42568 </td><td>2346.5000</td><td>  2      </td></tr>\n",
       "\t<tr><td>-122.2300</td><td>37.48762 </td><td>-122.2362</td><td>37.49127 </td><td> 510.5000</td><td>  6      </td></tr>\n",
       "\t<tr><td>-122.2300</td><td>37.48762 </td><td>-122.2321</td><td>37.48608 </td><td> 443.7500</td><td> 60      </td></tr>\n",
       "\t<tr><td>-122.2300</td><td>37.48762 </td><td>-122.2300</td><td>37.48762 </td><td>1102.2459</td><td> 61      </td></tr>\n",
       "\t<tr><td>-122.2300</td><td>37.48762 </td><td>-122.2274</td><td>37.48422 </td><td> 521.5789</td><td> 38      </td></tr>\n",
       "\t<tr><td>-122.2300</td><td>37.48762 </td><td>-122.2269</td><td>37.48176 </td><td> 534.5000</td><td>  4      </td></tr>\n",
       "\t<tr><td>-122.2300</td><td>37.48762 </td><td>-122.2235</td><td>37.48768 </td><td> 781.2121</td><td> 33      </td></tr>\n",
       "\t<tr><td>-122.2300</td><td>37.48762 </td><td>-122.2033</td><td>37.48537 </td><td> 350.1379</td><td> 29      </td></tr>\n",
       "\t<tr><td>-122.2300</td><td>37.48762 </td><td>-122.1378</td><td>37.42568 </td><td>1860.0000</td><td>  1      </td></tr>\n",
       "\t<tr><td>-122.2274</td><td>37.48422 </td><td>-122.2362</td><td>37.49127 </td><td>1085.8333</td><td>  6      </td></tr>\n",
       "\t<tr><td>-122.2274</td><td>37.48422 </td><td>-122.2321</td><td>37.48608 </td><td> 308.4727</td><td> 55      </td></tr>\n",
       "\t<tr><td>-122.2274</td><td>37.48422 </td><td>-122.2300</td><td>37.48762 </td><td> 418.7429</td><td> 35      </td></tr>\n",
       "\t<tr><td>-122.2274</td><td>37.48422 </td><td>-122.2274</td><td>37.48422 </td><td> 406.7500</td><td> 16      </td></tr>\n",
       "\t<tr><td>-122.2274</td><td>37.48422 </td><td>-122.2269</td><td>37.48176 </td><td> 251.5385</td><td> 13      </td></tr>\n",
       "\t<tr><td>⋮</td><td>⋮</td><td>⋮</td><td>⋮</td><td>⋮</td><td>⋮</td></tr>\n",
       "\t<tr><td>-122.0837</td><td>37.38596 </td><td>-122.0837</td><td>37.38596 </td><td>1342.7353</td><td>  34     </td></tr>\n",
       "\t<tr><td>-122.0837</td><td>37.38596 </td><td>-122.0819</td><td>37.38922 </td><td> 630.1373</td><td>  51     </td></tr>\n",
       "\t<tr><td>-122.0837</td><td>37.38596 </td><td>-122.0767</td><td>37.39436 </td><td> 319.0706</td><td>1458     </td></tr>\n",
       "\t<tr><td>-122.0837</td><td>37.38596 </td><td>-122.0666</td><td>37.39028 </td><td> 622.3000</td><td>  20     </td></tr>\n",
       "\t<tr><td>-122.0819</td><td>37.38922 </td><td>-122.1428</td><td>37.42908 </td><td>2465.0000</td><td>   1     </td></tr>\n",
       "\t<tr><td>-122.0819</td><td>37.38922 </td><td>-122.1378</td><td>37.42568 </td><td>1704.0000</td><td>   2     </td></tr>\n",
       "\t<tr><td>-122.0819</td><td>37.38922 </td><td>-122.1083</td><td>37.40044 </td><td> 759.3333</td><td>  30     </td></tr>\n",
       "\t<tr><td>-122.0819</td><td>37.38922 </td><td>-122.1068</td><td>37.40694 </td><td>1031.7742</td><td>  31     </td></tr>\n",
       "\t<tr><td>-122.0819</td><td>37.38922 </td><td>-122.0991</td><td>37.40024 </td><td> 846.0169</td><td>  59     </td></tr>\n",
       "\t<tr><td>-122.0819</td><td>37.38922 </td><td>-122.0837</td><td>37.38596 </td><td> 568.5882</td><td>  51     </td></tr>\n",
       "\t<tr><td>-122.0819</td><td>37.38922 </td><td>-122.0819</td><td>37.38922 </td><td>1003.3036</td><td>  56     </td></tr>\n",
       "\t<tr><td>-122.0819</td><td>37.38922 </td><td>-122.0767</td><td>37.39436 </td><td> 253.7846</td><td>2205     </td></tr>\n",
       "\t<tr><td>-122.0819</td><td>37.38922 </td><td>-122.0666</td><td>37.39028 </td><td> 514.9231</td><td>  39     </td></tr>\n",
       "\t<tr><td>-122.0767</td><td>37.39436 </td><td>-122.1648</td><td>37.44399 </td><td>1809.0000</td><td>   1     </td></tr>\n",
       "\t<tr><td>-122.0767</td><td>37.39436 </td><td>-122.1428</td><td>37.42908 </td><td>1876.0000</td><td>   2     </td></tr>\n",
       "\t<tr><td>-122.0767</td><td>37.39436 </td><td>-122.1378</td><td>37.42568 </td><td>1659.5000</td><td>   6     </td></tr>\n",
       "\t<tr><td>-122.0767</td><td>37.39436 </td><td>-122.1083</td><td>37.40044 </td><td> 923.5849</td><td> 159     </td></tr>\n",
       "\t<tr><td>-122.0767</td><td>37.39436 </td><td>-122.1068</td><td>37.40694 </td><td> 939.7013</td><td>  77     </td></tr>\n",
       "\t<tr><td>-122.0767</td><td>37.39436 </td><td>-122.0991</td><td>37.40024 </td><td> 715.0774</td><td> 323     </td></tr>\n",
       "\t<tr><td>-122.0767</td><td>37.39436 </td><td>-122.0837</td><td>37.38596 </td><td> 373.7371</td><td>1301     </td></tr>\n",
       "\t<tr><td>-122.0767</td><td>37.39436 </td><td>-122.0819</td><td>37.38922 </td><td> 277.3466</td><td>2522     </td></tr>\n",
       "\t<tr><td>-122.0767</td><td>37.39436 </td><td>-122.0767</td><td>37.39436 </td><td>1136.9293</td><td>  99     </td></tr>\n",
       "\t<tr><td>-122.0767</td><td>37.39436 </td><td>-122.0666</td><td>37.39028 </td><td> 322.0497</td><td> 946     </td></tr>\n",
       "\t<tr><td>-122.0666</td><td>37.39028 </td><td>-122.1083</td><td>37.40044 </td><td>1079.6667</td><td>   3     </td></tr>\n",
       "\t<tr><td>-122.0666</td><td>37.39028 </td><td>-122.1068</td><td>37.40694 </td><td>1255.0000</td><td>   3     </td></tr>\n",
       "\t<tr><td>-122.0666</td><td>37.39028 </td><td>-122.0991</td><td>37.40024 </td><td> 929.0000</td><td>   3     </td></tr>\n",
       "\t<tr><td>-122.0666</td><td>37.39028 </td><td>-122.0837</td><td>37.38596 </td><td> 564.5263</td><td>  19     </td></tr>\n",
       "\t<tr><td>-122.0666</td><td>37.39028 </td><td>-122.0819</td><td>37.38922 </td><td> 643.9041</td><td>  73     </td></tr>\n",
       "\t<tr><td>-122.0666</td><td>37.39028 </td><td>-122.0767</td><td>37.39436 </td><td> 270.5568</td><td> 959     </td></tr>\n",
       "\t<tr><td>-122.0666</td><td>37.39028 </td><td>-122.0666</td><td>37.39028 </td><td> 996.2069</td><td>  29     </td></tr>\n",
       "</tbody>\n",
       "</table>\n"
      ],
      "text/latex": [
       "\\begin{tabular}{r|llllll}\n",
       " long\\_x & lat\\_x & long\\_y & lat\\_y & mean & size\\\\\n",
       "\\hline\n",
       "\t -122.2362 & 37.49127  & -122.2362 & 37.49127  & 1573.5000 &   8      \\\\\n",
       "\t -122.2362 & 37.49127  & -122.2321 & 37.48608  &  311.2290 & 262      \\\\\n",
       "\t -122.2362 & 37.49127  & -122.2300 & 37.48762  &  418.7000 &  10      \\\\\n",
       "\t -122.2362 & 37.49127  & -122.2274 & 37.48422  &  819.8571 &   7      \\\\\n",
       "\t -122.2362 & 37.49127  & -122.2033 & 37.48537  &  382.0000 &   1      \\\\\n",
       "\t -122.2362 & 37.49127  & -122.1428 & 37.42908  & 2300.0000 &   1      \\\\\n",
       "\t -122.2321 & 37.48608  & -122.2362 & 37.49127  &  364.5667 & 180      \\\\\n",
       "\t -122.2321 & 37.48608  & -122.2321 & 37.48608  &  681.8462 &  39      \\\\\n",
       "\t -122.2321 & 37.48608  & -122.2300 & 37.48762  &  200.5528 & 123      \\\\\n",
       "\t -122.2321 & 37.48608  & -122.2274 & 37.48422  &  367.3229 &  96      \\\\\n",
       "\t -122.2321 & 37.48608  & -122.2269 & 37.48176  &  308.2823 & 124      \\\\\n",
       "\t -122.2321 & 37.48608  & -122.2235 & 37.48768  &  340.6793 & 343      \\\\\n",
       "\t -122.2321 & 37.48608  & -122.2033 & 37.48537  &  733.0173 & 289      \\\\\n",
       "\t -122.2321 & 37.48608  & -122.1648 & 37.44399  & 1767.5385 &  13      \\\\\n",
       "\t -122.2321 & 37.48608  & -122.1595 & 37.44860  & 1759.0000 &   1      \\\\\n",
       "\t -122.2321 & 37.48608  & -122.1428 & 37.42908  & 2457.0000 &   1      \\\\\n",
       "\t -122.2321 & 37.48608  & -122.1378 & 37.42568  & 2346.5000 &   2      \\\\\n",
       "\t -122.2300 & 37.48762  & -122.2362 & 37.49127  &  510.5000 &   6      \\\\\n",
       "\t -122.2300 & 37.48762  & -122.2321 & 37.48608  &  443.7500 &  60      \\\\\n",
       "\t -122.2300 & 37.48762  & -122.2300 & 37.48762  & 1102.2459 &  61      \\\\\n",
       "\t -122.2300 & 37.48762  & -122.2274 & 37.48422  &  521.5789 &  38      \\\\\n",
       "\t -122.2300 & 37.48762  & -122.2269 & 37.48176  &  534.5000 &   4      \\\\\n",
       "\t -122.2300 & 37.48762  & -122.2235 & 37.48768  &  781.2121 &  33      \\\\\n",
       "\t -122.2300 & 37.48762  & -122.2033 & 37.48537  &  350.1379 &  29      \\\\\n",
       "\t -122.2300 & 37.48762  & -122.1378 & 37.42568  & 1860.0000 &   1      \\\\\n",
       "\t -122.2274 & 37.48422  & -122.2362 & 37.49127  & 1085.8333 &   6      \\\\\n",
       "\t -122.2274 & 37.48422  & -122.2321 & 37.48608  &  308.4727 &  55      \\\\\n",
       "\t -122.2274 & 37.48422  & -122.2300 & 37.48762  &  418.7429 &  35      \\\\\n",
       "\t -122.2274 & 37.48422  & -122.2274 & 37.48422  &  406.7500 &  16      \\\\\n",
       "\t -122.2274 & 37.48422  & -122.2269 & 37.48176  &  251.5385 &  13      \\\\\n",
       "\t ⋮ & ⋮ & ⋮ & ⋮ & ⋮ & ⋮\\\\\n",
       "\t -122.0837 & 37.38596  & -122.0837 & 37.38596  & 1342.7353 &   34     \\\\\n",
       "\t -122.0837 & 37.38596  & -122.0819 & 37.38922  &  630.1373 &   51     \\\\\n",
       "\t -122.0837 & 37.38596  & -122.0767 & 37.39436  &  319.0706 & 1458     \\\\\n",
       "\t -122.0837 & 37.38596  & -122.0666 & 37.39028  &  622.3000 &   20     \\\\\n",
       "\t -122.0819 & 37.38922  & -122.1428 & 37.42908  & 2465.0000 &    1     \\\\\n",
       "\t -122.0819 & 37.38922  & -122.1378 & 37.42568  & 1704.0000 &    2     \\\\\n",
       "\t -122.0819 & 37.38922  & -122.1083 & 37.40044  &  759.3333 &   30     \\\\\n",
       "\t -122.0819 & 37.38922  & -122.1068 & 37.40694  & 1031.7742 &   31     \\\\\n",
       "\t -122.0819 & 37.38922  & -122.0991 & 37.40024  &  846.0169 &   59     \\\\\n",
       "\t -122.0819 & 37.38922  & -122.0837 & 37.38596  &  568.5882 &   51     \\\\\n",
       "\t -122.0819 & 37.38922  & -122.0819 & 37.38922  & 1003.3036 &   56     \\\\\n",
       "\t -122.0819 & 37.38922  & -122.0767 & 37.39436  &  253.7846 & 2205     \\\\\n",
       "\t -122.0819 & 37.38922  & -122.0666 & 37.39028  &  514.9231 &   39     \\\\\n",
       "\t -122.0767 & 37.39436  & -122.1648 & 37.44399  & 1809.0000 &    1     \\\\\n",
       "\t -122.0767 & 37.39436  & -122.1428 & 37.42908  & 1876.0000 &    2     \\\\\n",
       "\t -122.0767 & 37.39436  & -122.1378 & 37.42568  & 1659.5000 &    6     \\\\\n",
       "\t -122.0767 & 37.39436  & -122.1083 & 37.40044  &  923.5849 &  159     \\\\\n",
       "\t -122.0767 & 37.39436  & -122.1068 & 37.40694  &  939.7013 &   77     \\\\\n",
       "\t -122.0767 & 37.39436  & -122.0991 & 37.40024  &  715.0774 &  323     \\\\\n",
       "\t -122.0767 & 37.39436  & -122.0837 & 37.38596  &  373.7371 & 1301     \\\\\n",
       "\t -122.0767 & 37.39436  & -122.0819 & 37.38922  &  277.3466 & 2522     \\\\\n",
       "\t -122.0767 & 37.39436  & -122.0767 & 37.39436  & 1136.9293 &   99     \\\\\n",
       "\t -122.0767 & 37.39436  & -122.0666 & 37.39028  &  322.0497 &  946     \\\\\n",
       "\t -122.0666 & 37.39028  & -122.1083 & 37.40044  & 1079.6667 &    3     \\\\\n",
       "\t -122.0666 & 37.39028  & -122.1068 & 37.40694  & 1255.0000 &    3     \\\\\n",
       "\t -122.0666 & 37.39028  & -122.0991 & 37.40024  &  929.0000 &    3     \\\\\n",
       "\t -122.0666 & 37.39028  & -122.0837 & 37.38596  &  564.5263 &   19     \\\\\n",
       "\t -122.0666 & 37.39028  & -122.0819 & 37.38922  &  643.9041 &   73     \\\\\n",
       "\t -122.0666 & 37.39028  & -122.0767 & 37.39436  &  270.5568 &  959     \\\\\n",
       "\t -122.0666 & 37.39028  & -122.0666 & 37.39028  &  996.2069 &   29     \\\\\n",
       "\\end{tabular}\n"
      ],
      "text/markdown": [
       "\n",
       "long_x | lat_x | long_y | lat_y | mean | size | \n",
       "|---|---|---|---|---|---|---|---|---|---|---|---|---|---|---|---|---|---|---|---|---|---|---|---|---|---|---|---|---|---|---|---|---|---|---|---|---|---|---|---|---|---|---|---|---|---|---|---|---|---|---|---|---|---|---|---|---|---|---|---|---|\n",
       "| -122.2362 | 37.49127  | -122.2362 | 37.49127  | 1573.5000 |   8       | \n",
       "| -122.2362 | 37.49127  | -122.2321 | 37.48608  |  311.2290 | 262       | \n",
       "| -122.2362 | 37.49127  | -122.2300 | 37.48762  |  418.7000 |  10       | \n",
       "| -122.2362 | 37.49127  | -122.2274 | 37.48422  |  819.8571 |   7       | \n",
       "| -122.2362 | 37.49127  | -122.2033 | 37.48537  |  382.0000 |   1       | \n",
       "| -122.2362 | 37.49127  | -122.1428 | 37.42908  | 2300.0000 |   1       | \n",
       "| -122.2321 | 37.48608  | -122.2362 | 37.49127  |  364.5667 | 180       | \n",
       "| -122.2321 | 37.48608  | -122.2321 | 37.48608  |  681.8462 |  39       | \n",
       "| -122.2321 | 37.48608  | -122.2300 | 37.48762  |  200.5528 | 123       | \n",
       "| -122.2321 | 37.48608  | -122.2274 | 37.48422  |  367.3229 |  96       | \n",
       "| -122.2321 | 37.48608  | -122.2269 | 37.48176  |  308.2823 | 124       | \n",
       "| -122.2321 | 37.48608  | -122.2235 | 37.48768  |  340.6793 | 343       | \n",
       "| -122.2321 | 37.48608  | -122.2033 | 37.48537  |  733.0173 | 289       | \n",
       "| -122.2321 | 37.48608  | -122.1648 | 37.44399  | 1767.5385 |  13       | \n",
       "| -122.2321 | 37.48608  | -122.1595 | 37.44860  | 1759.0000 |   1       | \n",
       "| -122.2321 | 37.48608  | -122.1428 | 37.42908  | 2457.0000 |   1       | \n",
       "| -122.2321 | 37.48608  | -122.1378 | 37.42568  | 2346.5000 |   2       | \n",
       "| -122.2300 | 37.48762  | -122.2362 | 37.49127  |  510.5000 |   6       | \n",
       "| -122.2300 | 37.48762  | -122.2321 | 37.48608  |  443.7500 |  60       | \n",
       "| -122.2300 | 37.48762  | -122.2300 | 37.48762  | 1102.2459 |  61       | \n",
       "| -122.2300 | 37.48762  | -122.2274 | 37.48422  |  521.5789 |  38       | \n",
       "| -122.2300 | 37.48762  | -122.2269 | 37.48176  |  534.5000 |   4       | \n",
       "| -122.2300 | 37.48762  | -122.2235 | 37.48768  |  781.2121 |  33       | \n",
       "| -122.2300 | 37.48762  | -122.2033 | 37.48537  |  350.1379 |  29       | \n",
       "| -122.2300 | 37.48762  | -122.1378 | 37.42568  | 1860.0000 |   1       | \n",
       "| -122.2274 | 37.48422  | -122.2362 | 37.49127  | 1085.8333 |   6       | \n",
       "| -122.2274 | 37.48422  | -122.2321 | 37.48608  |  308.4727 |  55       | \n",
       "| -122.2274 | 37.48422  | -122.2300 | 37.48762  |  418.7429 |  35       | \n",
       "| -122.2274 | 37.48422  | -122.2274 | 37.48422  |  406.7500 |  16       | \n",
       "| -122.2274 | 37.48422  | -122.2269 | 37.48176  |  251.5385 |  13       | \n",
       "| ⋮ | ⋮ | ⋮ | ⋮ | ⋮ | ⋮ | \n",
       "| -122.0837 | 37.38596  | -122.0837 | 37.38596  | 1342.7353 |   34      | \n",
       "| -122.0837 | 37.38596  | -122.0819 | 37.38922  |  630.1373 |   51      | \n",
       "| -122.0837 | 37.38596  | -122.0767 | 37.39436  |  319.0706 | 1458      | \n",
       "| -122.0837 | 37.38596  | -122.0666 | 37.39028  |  622.3000 |   20      | \n",
       "| -122.0819 | 37.38922  | -122.1428 | 37.42908  | 2465.0000 |    1      | \n",
       "| -122.0819 | 37.38922  | -122.1378 | 37.42568  | 1704.0000 |    2      | \n",
       "| -122.0819 | 37.38922  | -122.1083 | 37.40044  |  759.3333 |   30      | \n",
       "| -122.0819 | 37.38922  | -122.1068 | 37.40694  | 1031.7742 |   31      | \n",
       "| -122.0819 | 37.38922  | -122.0991 | 37.40024  |  846.0169 |   59      | \n",
       "| -122.0819 | 37.38922  | -122.0837 | 37.38596  |  568.5882 |   51      | \n",
       "| -122.0819 | 37.38922  | -122.0819 | 37.38922  | 1003.3036 |   56      | \n",
       "| -122.0819 | 37.38922  | -122.0767 | 37.39436  |  253.7846 | 2205      | \n",
       "| -122.0819 | 37.38922  | -122.0666 | 37.39028  |  514.9231 |   39      | \n",
       "| -122.0767 | 37.39436  | -122.1648 | 37.44399  | 1809.0000 |    1      | \n",
       "| -122.0767 | 37.39436  | -122.1428 | 37.42908  | 1876.0000 |    2      | \n",
       "| -122.0767 | 37.39436  | -122.1378 | 37.42568  | 1659.5000 |    6      | \n",
       "| -122.0767 | 37.39436  | -122.1083 | 37.40044  |  923.5849 |  159      | \n",
       "| -122.0767 | 37.39436  | -122.1068 | 37.40694  |  939.7013 |   77      | \n",
       "| -122.0767 | 37.39436  | -122.0991 | 37.40024  |  715.0774 |  323      | \n",
       "| -122.0767 | 37.39436  | -122.0837 | 37.38596  |  373.7371 | 1301      | \n",
       "| -122.0767 | 37.39436  | -122.0819 | 37.38922  |  277.3466 | 2522      | \n",
       "| -122.0767 | 37.39436  | -122.0767 | 37.39436  | 1136.9293 |   99      | \n",
       "| -122.0767 | 37.39436  | -122.0666 | 37.39028  |  322.0497 |  946      | \n",
       "| -122.0666 | 37.39028  | -122.1083 | 37.40044  | 1079.6667 |    3      | \n",
       "| -122.0666 | 37.39028  | -122.1068 | 37.40694  | 1255.0000 |    3      | \n",
       "| -122.0666 | 37.39028  | -122.0991 | 37.40024  |  929.0000 |    3      | \n",
       "| -122.0666 | 37.39028  | -122.0837 | 37.38596  |  564.5263 |   19      | \n",
       "| -122.0666 | 37.39028  | -122.0819 | 37.38922  |  643.9041 |   73      | \n",
       "| -122.0666 | 37.39028  | -122.0767 | 37.39436  |  270.5568 |  959      | \n",
       "| -122.0666 | 37.39028  | -122.0666 | 37.39028  |  996.2069 |   29      | \n",
       "\n",
       "\n"
      ],
      "text/plain": [
       "    long_x    lat_x    long_y    lat_y    mean      size\n",
       "1   -122.2362 37.49127 -122.2362 37.49127 1573.5000   8 \n",
       "2   -122.2362 37.49127 -122.2321 37.48608  311.2290 262 \n",
       "3   -122.2362 37.49127 -122.2300 37.48762  418.7000  10 \n",
       "4   -122.2362 37.49127 -122.2274 37.48422  819.8571   7 \n",
       "5   -122.2362 37.49127 -122.2033 37.48537  382.0000   1 \n",
       "6   -122.2362 37.49127 -122.1428 37.42908 2300.0000   1 \n",
       "7   -122.2321 37.48608 -122.2362 37.49127  364.5667 180 \n",
       "8   -122.2321 37.48608 -122.2321 37.48608  681.8462  39 \n",
       "9   -122.2321 37.48608 -122.2300 37.48762  200.5528 123 \n",
       "10  -122.2321 37.48608 -122.2274 37.48422  367.3229  96 \n",
       "11  -122.2321 37.48608 -122.2269 37.48176  308.2823 124 \n",
       "12  -122.2321 37.48608 -122.2235 37.48768  340.6793 343 \n",
       "13  -122.2321 37.48608 -122.2033 37.48537  733.0173 289 \n",
       "14  -122.2321 37.48608 -122.1648 37.44399 1767.5385  13 \n",
       "15  -122.2321 37.48608 -122.1595 37.44860 1759.0000   1 \n",
       "16  -122.2321 37.48608 -122.1428 37.42908 2457.0000   1 \n",
       "17  -122.2321 37.48608 -122.1378 37.42568 2346.5000   2 \n",
       "18  -122.2300 37.48762 -122.2362 37.49127  510.5000   6 \n",
       "19  -122.2300 37.48762 -122.2321 37.48608  443.7500  60 \n",
       "20  -122.2300 37.48762 -122.2300 37.48762 1102.2459  61 \n",
       "21  -122.2300 37.48762 -122.2274 37.48422  521.5789  38 \n",
       "22  -122.2300 37.48762 -122.2269 37.48176  534.5000   4 \n",
       "23  -122.2300 37.48762 -122.2235 37.48768  781.2121  33 \n",
       "24  -122.2300 37.48762 -122.2033 37.48537  350.1379  29 \n",
       "25  -122.2300 37.48762 -122.1378 37.42568 1860.0000   1 \n",
       "26  -122.2274 37.48422 -122.2362 37.49127 1085.8333   6 \n",
       "27  -122.2274 37.48422 -122.2321 37.48608  308.4727  55 \n",
       "28  -122.2274 37.48422 -122.2300 37.48762  418.7429  35 \n",
       "29  -122.2274 37.48422 -122.2274 37.48422  406.7500  16 \n",
       "30  -122.2274 37.48422 -122.2269 37.48176  251.5385  13 \n",
       "⋮   ⋮         ⋮        ⋮         ⋮        ⋮         ⋮   \n",
       "137 -122.0837 37.38596 -122.0837 37.38596 1342.7353   34\n",
       "138 -122.0837 37.38596 -122.0819 37.38922  630.1373   51\n",
       "139 -122.0837 37.38596 -122.0767 37.39436  319.0706 1458\n",
       "140 -122.0837 37.38596 -122.0666 37.39028  622.3000   20\n",
       "141 -122.0819 37.38922 -122.1428 37.42908 2465.0000    1\n",
       "142 -122.0819 37.38922 -122.1378 37.42568 1704.0000    2\n",
       "143 -122.0819 37.38922 -122.1083 37.40044  759.3333   30\n",
       "144 -122.0819 37.38922 -122.1068 37.40694 1031.7742   31\n",
       "145 -122.0819 37.38922 -122.0991 37.40024  846.0169   59\n",
       "146 -122.0819 37.38922 -122.0837 37.38596  568.5882   51\n",
       "147 -122.0819 37.38922 -122.0819 37.38922 1003.3036   56\n",
       "148 -122.0819 37.38922 -122.0767 37.39436  253.7846 2205\n",
       "149 -122.0819 37.38922 -122.0666 37.39028  514.9231   39\n",
       "150 -122.0767 37.39436 -122.1648 37.44399 1809.0000    1\n",
       "151 -122.0767 37.39436 -122.1428 37.42908 1876.0000    2\n",
       "152 -122.0767 37.39436 -122.1378 37.42568 1659.5000    6\n",
       "153 -122.0767 37.39436 -122.1083 37.40044  923.5849  159\n",
       "154 -122.0767 37.39436 -122.1068 37.40694  939.7013   77\n",
       "155 -122.0767 37.39436 -122.0991 37.40024  715.0774  323\n",
       "156 -122.0767 37.39436 -122.0837 37.38596  373.7371 1301\n",
       "157 -122.0767 37.39436 -122.0819 37.38922  277.3466 2522\n",
       "158 -122.0767 37.39436 -122.0767 37.39436 1136.9293   99\n",
       "159 -122.0767 37.39436 -122.0666 37.39028  322.0497  946\n",
       "160 -122.0666 37.39028 -122.1083 37.40044 1079.6667    3\n",
       "161 -122.0666 37.39028 -122.1068 37.40694 1255.0000    3\n",
       "162 -122.0666 37.39028 -122.0991 37.40024  929.0000    3\n",
       "163 -122.0666 37.39028 -122.0837 37.38596  564.5263   19\n",
       "164 -122.0666 37.39028 -122.0819 37.38922  643.9041   73\n",
       "165 -122.0666 37.39028 -122.0767 37.39436  270.5568  959\n",
       "166 -122.0666 37.39028 -122.0666 37.39028  996.2069   29"
      ]
     },
     "metadata": {},
     "output_type": "display_data"
    }
   ],
   "source": [
    "tmp_rc_mv_pa"
   ]
  },
  {
   "cell_type": "code",
   "execution_count": 176,
   "metadata": {
    "collapsed": false
   },
   "outputs": [
    {
     "data": {
      "text/html": [
       "120"
      ],
      "text/latex": [
       "120"
      ],
      "text/markdown": [
       "120"
      ],
      "text/plain": [
       "[1] 120"
      ]
     },
     "metadata": {},
     "output_type": "display_data"
    }
   ],
   "source": [
    "tmp_rmp = tmp_rc_mv_pa[(tmp_rc_mv_pa$size > 5),]\n",
    "nrow(tmp_rmp)"
   ]
  },
  {
   "cell_type": "code",
   "execution_count": 177,
   "metadata": {
    "collapsed": true
   },
   "outputs": [],
   "source": [
    "p <- ggplot(tmp_rmp) +ggtitle(\"Viajes de subcribers en Redwood City, Palo Alto y Mountain View\") +\n",
    "     geom_segment(aes(x=long_x, xend=long_y, y=lat_x, yend=lat_y,size=mean, colour=mean, alpha=mean)) +\n",
    "     geom_point(data=station_rc_mv_pa  , aes(x=long, y=lat), size=2) +\n",
    "     geom_text_repel(data=station_rc_mv_pa , aes(x=long, y=lat, label=name), size=4) +\n",
    "     theme_light(base_size=10) +\n",
    "     scale_colour_gradientn(colors=c(\"#fffe85\", \"#17409a\"), limits=c(0, max(tmp_rmp$mean)), name=\"Mean-Duration[secs]\") +\n",
    "     scale_alpha(limits=c(0, max(tmp_rmp$mean)), guide=FALSE) +\n",
    "     scale_size(limits=c(0, max(tmp_rmp$mean)), guide=FALSE) +\n",
    "     xlab(\"\") +\n",
    "     ylab(\"\") +\n",
    "     coord_fixed() +\n",
    "     theme(axis.line=element_blank(),\n",
    "           axis.text.x=element_blank(),\n",
    "           axis.text.y=element_blank(),\n",
    "           axis.ticks=element_blank(),\n",
    "           axis.title.x=element_blank(),\n",
    "           axis.title.y=element_blank(),\n",
    "           panel.grid=element_blank(),\n",
    "           panel.border=element_blank())\n",
    "\n",
    "p <- add_sub(p, \"Se filtró por horarios de 5am a 20pm(horarios regulares de uso).\\\n",
    "                 Por una duración de rango [0 secs..7200 secs] y 5 viajes al menos registrados por cada trayecto\") \n",
    "\n",
    "ggsave(\"sfBikes/visu/trip_station_in_rc_mv_pa_duration_mean_size_subcribers.png\", p, width=10, height=6, units=\"in\")"
   ]
  },
  {
   "cell_type": "code",
   "execution_count": 178,
   "metadata": {
    "collapsed": false
   },
   "outputs": [],
   "source": [
    "p <- ggplot(tmp_rmp) +ggtitle(\"Viajes de subcribers en Redwood City, Palo Alto y Mountain View\") +\n",
    "     geom_segment(aes(x=long_x, xend=long_y, y=lat_x, yend=lat_y, size= size, colour=size, alpha=size)) +\n",
    "     geom_point(data=station_rc_mv_pa , aes(x=long, y=lat), size=2) +\n",
    "     geom_text_repel(data=station_rc_mv_pa , aes(x=long, y=lat, label=name), size=4) +\n",
    "     theme_light(base_size=10) +\n",
    "     scale_colour_gradientn(colors=c(\"#fffe85\", \"#17409a\"), limits=c(0, max(tmp_rmp$size)), name=\"Count trips\") +\n",
    "     scale_alpha(limits=c(0, max(tmp_rmp$size)), guide=FALSE) +\n",
    "     scale_size(limits=c(0, max(tmp_rmp$size)), guide=FALSE) +\n",
    "     xlab(\"\") +\n",
    "     ylab(\"\") +\n",
    "     coord_fixed() +\n",
    "     theme(axis.line=element_blank(),\n",
    "           axis.text.x=element_blank(),\n",
    "           axis.text.y=element_blank(),\n",
    "           axis.ticks=element_blank(),\n",
    "           axis.title.x=element_blank(),\n",
    "           axis.title.y=element_blank(),\n",
    "           panel.grid=element_blank(),\n",
    "           panel.border=element_blank())\n",
    "\n",
    "p <- add_sub(p, \"Se filtró por horarios de 5am a 20pm(horarios regulares de uso).\\\n",
    "                 Y por una duración de rango [0 secs..7200 secs]\") \n",
    "\n",
    "ggsave(\"sfBikes/visu/trip_station_in_rc_mv_pa__count_trips_subcribers.png\", p, width=10, height=6, units=\"in\")"
   ]
  },
  {
   "cell_type": "code",
   "execution_count": null,
   "metadata": {
    "collapsed": true
   },
   "outputs": [],
   "source": []
  },
  {
   "cell_type": "code",
   "execution_count": null,
   "metadata": {
    "collapsed": true
   },
   "outputs": [],
   "source": []
  },
  {
   "cell_type": "code",
   "execution_count": null,
   "metadata": {
    "collapsed": true
   },
   "outputs": [],
   "source": []
  }
 ],
 "metadata": {
  "kernelspec": {
   "display_name": "R",
   "language": "R",
   "name": "ir"
  },
  "language_info": {
   "codemirror_mode": "r",
   "file_extension": ".r",
   "mimetype": "text/x-r-source",
   "name": "R",
   "pygments_lexer": "r",
   "version": "3.3.2"
  }
 },
 "nbformat": 4,
 "nbformat_minor": 2
}
