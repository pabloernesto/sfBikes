{
 "cells": [
  {
   "cell_type": "code",
   "execution_count": 1,
   "metadata": {
    "collapsed": true
   },
   "outputs": [],
   "source": [
    "import pandas as pd\n",
    "import numpy as np"
   ]
  },
  {
   "cell_type": "code",
   "execution_count": 3,
   "metadata": {
    "collapsed": false
   },
   "outputs": [],
   "source": [
    "trip = pd.read_csv('data/tripP')\n",
    "weather = pd.read_csv('data/weatherP')\n",
    "station = pd.read_csv('data/stationP')"
   ]
  },
  {
   "cell_type": "code",
   "execution_count": 4,
   "metadata": {
    "collapsed": false
   },
   "outputs": [],
   "source": [
    "trip = trip.merge(station, on='start_station_id', how='left')"
   ]
  },
  {
   "cell_type": "code",
   "execution_count": 5,
   "metadata": {
    "collapsed": false
   },
   "outputs": [],
   "source": [
    "trip = trip.merge(weather, on=['date', 'zip_code'], how='left')\n",
    "#SOLUCION RATA\n",
    "trip.fillna(0, inplace=True)\n",
    "trip.drop(['date', 'zip_code'], axis=1, inplace=True)"
   ]
  },
  {
   "cell_type": "code",
   "execution_count": 6,
   "metadata": {
    "collapsed": false
   },
   "outputs": [],
   "source": [
    "trip = trip.drop(['holiday'], axis=1)"
   ]
  },
  {
   "cell_type": "code",
   "execution_count": 8,
   "metadata": {
    "collapsed": false
   },
   "outputs": [],
   "source": [
    "train = pd.read_csv('data/trip_train.csv', usecols=['id'])\n",
    "train = train.merge(trip, on='id', how='left')"
   ]
  },
  {
   "cell_type": "code",
   "execution_count": 9,
   "metadata": {
    "collapsed": false
   },
   "outputs": [],
   "source": [
    "test = pd.read_csv('data/trip_test.csv', usecols=['id'])\n",
    "test = test.merge(trip, how=\"left\", on=\"id\")"
   ]
  },
  {
   "cell_type": "code",
   "execution_count": 39,
   "metadata": {
    "collapsed": false
   },
   "outputs": [],
   "source": [
    "from sklearn import ensemble\n",
    "from sklearn.model_selection import RandomizedSearchCV\n",
    "from scipy.stats import randint as sp_randint\n",
    "r = ensemble.ExtraTreesRegressor(n_jobs=-1)\n",
    "param_dist = {\"max_depth\": [None, 1, 2, 3, 4, 5],\n",
    "              \"max_features\": sp_randint(1, 11),\n",
    "              \"min_samples_split\": sp_randint(2, 11),\n",
    "              \"min_samples_leaf\": sp_randint(1, 11),\n",
    "              \"bootstrap\": [True, False]}"
   ]
  },
  {
   "cell_type": "code",
   "execution_count": 40,
   "metadata": {
    "collapsed": false
   },
   "outputs": [
    {
     "data": {
      "text/plain": [
       "RandomizedSearchCV(cv=None, error_score='raise',\n",
       "          estimator=ExtraTreesRegressor(bootstrap=False, criterion='mse', max_depth=None,\n",
       "          max_features='auto', max_leaf_nodes=None,\n",
       "          min_impurity_split=1e-07, min_samples_leaf=1,\n",
       "          min_samples_split=2, min_weight_fraction_leaf=0.0,\n",
       "          n_estimators=10, n_jobs=-1, oob_score=False, random_state=None,\n",
       "          verbose=0, warm_start=False),\n",
       "          fit_params={}, iid=True, n_iter=20, n_jobs=1,\n",
       "          param_distributions={'max_features': <scipy.stats._distn_infrastructure.rv_frozen object at 0x7f9259b67e10>, 'min_samples_split': <scipy.stats._distn_infrastructure.rv_frozen object at 0x7f9264aaa350>, 'bootstrap': [True, False], 'max_depth': [None, 1, 2, 3, 4, 5], 'min_samples_leaf': <scipy.stats._distn_infrastructure.rv_frozen object at 0x7f9264aaa090>},\n",
       "          pre_dispatch='2*n_jobs', random_state=None, refit=True,\n",
       "          return_train_score=True, scoring=None, verbose=0)"
      ]
     },
     "execution_count": 40,
     "metadata": {},
     "output_type": "execute_result"
    }
   ],
   "source": [
    "cols = ['start_station_id', 'subscription_type', 'time', 'year', 'month', 'day',\n",
    "'dayofweek', 'max_temperature_f', 'mean_temperature_f', 'min_temperature_f',\n",
    "'max_dew_point_f', 'mean_dew_point_f', 'min_dew_point_f', 'max_humidity',\n",
    "'mean_humidity', 'min_humidity', 'max_sea_level_pressure_inches',\n",
    "'mean_sea_level_pressure_inches', 'min_sea_level_pressure_inches',\n",
    "'max_visibility_miles', 'mean_visibility_miles', 'min_visibility_miles',\n",
    "'max_wind_Speed_mph', 'mean_wind_speed_mph', 'max_gust_speed_mph',\n",
    "'precipitation_inches', 'cloud_cover', 'events', 'wind_dir_degrees']\n",
    "\n",
    "random_search = RandomizedSearchCV(r, param_distributions=param_dist, n_iter=20)\n",
    "random_search.fit(train[cols], train.duration)"
   ]
  },
  {
   "cell_type": "code",
   "execution_count": 42,
   "metadata": {
    "collapsed": false
   },
   "outputs": [
    {
     "name": "stdout",
     "output_type": "stream",
     "text": [
      "Model with rank: 1\n",
      "Mean validation score: 0.017 (std: 0.012)\n",
      "Parameters: {'max_features': 6, 'min_samples_split': 5, 'bootstrap': False, 'max_depth': 2, 'min_samples_leaf': 5}\n",
      "\n",
      "Model with rank: 2\n",
      "Mean validation score: 0.016 (std: 0.012)\n",
      "Parameters: {'max_features': 9, 'min_samples_split': 3, 'bootstrap': False, 'max_depth': 1, 'min_samples_leaf': 5}\n",
      "\n",
      "Model with rank: 3\n",
      "Mean validation score: 0.014 (std: 0.010)\n",
      "Parameters: {'max_features': 10, 'min_samples_split': 5, 'bootstrap': True, 'max_depth': 2, 'min_samples_leaf': 4}\n",
      "\n"
     ]
    }
   ],
   "source": [
    "def report(results, n_top=3):\n",
    "    for i in range(1, n_top + 1):\n",
    "        candidates = np.flatnonzero(results['rank_test_score'] == i)\n",
    "        for candidate in candidates:\n",
    "            print(\"Model with rank: {0}\".format(i))\n",
    "            print(\"Mean validation score: {0:.3f} (std: {1:.3f})\".format(\n",
    "                  results['mean_test_score'][candidate],\n",
    "                  results['std_test_score'][candidate]))\n",
    "            print(\"Parameters: {0}\".format(results['params'][candidate]))\n",
    "            print(\"\")\n",
    "\n",
    "report(random_search.cv_results_)"
   ]
  },
  {
   "cell_type": "code",
   "execution_count": 45,
   "metadata": {
    "collapsed": false
   },
   "outputs": [
    {
     "data": {
      "text/plain": [
       "41829582.730453528"
      ]
     },
     "execution_count": 45,
     "metadata": {},
     "output_type": "execute_result"
    }
   ],
   "source": [
    "from sklearn.metrics import mean_squared_error\n",
    "mean_squared_error(\n",
    "    ensemble.ExtraTreesRegressor(\n",
    "        n_jobs=-1,\n",
    "        max_features=10,\n",
    "        min_samples_split=5,\n",
    "        bootstrap=True,\n",
    "        max_depth=2,\n",
    "        min_samples_leaf=4)\\\n",
    "            .fit(train[cols], train.duration)\\\n",
    "            .predict(test[cols]),\n",
    "    test.duration)"
   ]
  },
  {
   "cell_type": "code",
   "execution_count": null,
   "metadata": {
    "collapsed": true
   },
   "outputs": [],
   "source": []
  }
 ],
 "metadata": {
  "kernelspec": {
   "display_name": "Python 2",
   "language": "python",
   "name": "python2"
  },
  "language_info": {
   "codemirror_mode": {
    "name": "ipython",
    "version": 2
   },
   "file_extension": ".py",
   "mimetype": "text/x-python",
   "name": "python",
   "nbconvert_exporter": "python",
   "pygments_lexer": "ipython2",
   "version": "2.7.13"
  }
 },
 "nbformat": 4,
 "nbformat_minor": 2
}
