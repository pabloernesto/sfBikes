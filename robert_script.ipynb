{
 "cells": [
  {
   "cell_type": "code",
   "execution_count": 4,
   "metadata": {
    "collapsed": true
   },
   "outputs": [],
   "source": [
    "import pandas as pd\n",
    "import numpy as np\n",
    "#import seaborn as sns\n",
    "import matplotlib.pyplot as plt\n",
    "%matplotlib inline"
   ]
  },
  {
   "cell_type": "code",
   "execution_count": 91,
   "metadata": {
    "collapsed": false
   },
   "outputs": [],
   "source": [
    "trip = pd.read_csv('/Users/Robert/Documents/OrganizacionDeDatos/data/trip.csv')"
   ]
  },
  {
   "cell_type": "code",
   "execution_count": 12,
   "metadata": {
    "collapsed": false
   },
   "outputs": [
    {
     "data": {
      "text/html": [
       "<div>\n",
       "<table border=\"1\" class=\"dataframe\">\n",
       "  <thead>\n",
       "    <tr style=\"text-align: right;\">\n",
       "      <th></th>\n",
       "      <th>id</th>\n",
       "      <th>duration</th>\n",
       "      <th>start_date</th>\n",
       "      <th>start_station_name</th>\n",
       "      <th>start_station_id</th>\n",
       "      <th>end_date</th>\n",
       "      <th>end_station_name</th>\n",
       "      <th>end_station_id</th>\n",
       "      <th>bike_id</th>\n",
       "      <th>subscription_type</th>\n",
       "      <th>zip_code</th>\n",
       "    </tr>\n",
       "  </thead>\n",
       "  <tbody>\n",
       "    <tr>\n",
       "      <th>67017</th>\n",
       "      <td>93362</td>\n",
       "      <td>315</td>\n",
       "      <td>11/12/2013 16:02</td>\n",
       "      <td>Powell at Post (Union Square)</td>\n",
       "      <td>71</td>\n",
       "      <td>11/12/2013 16:07</td>\n",
       "      <td>Washington at Kearney</td>\n",
       "      <td>46</td>\n",
       "      <td>453</td>\n",
       "      <td>Subscriber</td>\n",
       "      <td>94109</td>\n",
       "    </tr>\n",
       "    <tr>\n",
       "      <th>99792</th>\n",
       "      <td>138404</td>\n",
       "      <td>3556</td>\n",
       "      <td>12/30/2013 14:10</td>\n",
       "      <td>Harry Bridges Plaza (Ferry Building)</td>\n",
       "      <td>50</td>\n",
       "      <td>12/30/2013 15:10</td>\n",
       "      <td>Harry Bridges Plaza (Ferry Building)</td>\n",
       "      <td>50</td>\n",
       "      <td>277</td>\n",
       "      <td>Customer</td>\n",
       "      <td>90026</td>\n",
       "    </tr>\n",
       "    <tr>\n",
       "      <th>455075</th>\n",
       "      <td>730723</td>\n",
       "      <td>776</td>\n",
       "      <td>4/17/2015 17:56</td>\n",
       "      <td>Temporary Transbay Terminal (Howard at Beale)</td>\n",
       "      <td>55</td>\n",
       "      <td>4/17/2015 18:09</td>\n",
       "      <td>Townsend at 7th</td>\n",
       "      <td>65</td>\n",
       "      <td>606</td>\n",
       "      <td>Subscriber</td>\n",
       "      <td>94107</td>\n",
       "    </tr>\n",
       "  </tbody>\n",
       "</table>\n",
       "</div>"
      ],
      "text/plain": [
       "            id  duration        start_date  \\\n",
       "67017    93362       315  11/12/2013 16:02   \n",
       "99792   138404      3556  12/30/2013 14:10   \n",
       "455075  730723       776   4/17/2015 17:56   \n",
       "\n",
       "                                   start_station_name  start_station_id  \\\n",
       "67017                   Powell at Post (Union Square)                71   \n",
       "99792            Harry Bridges Plaza (Ferry Building)                50   \n",
       "455075  Temporary Transbay Terminal (Howard at Beale)                55   \n",
       "\n",
       "                end_date                      end_station_name  \\\n",
       "67017   11/12/2013 16:07                 Washington at Kearney   \n",
       "99792   12/30/2013 15:10  Harry Bridges Plaza (Ferry Building)   \n",
       "455075   4/17/2015 18:09                       Townsend at 7th   \n",
       "\n",
       "        end_station_id  bike_id subscription_type zip_code  \n",
       "67017               46      453        Subscriber    94109  \n",
       "99792               50      277          Customer    90026  \n",
       "455075              65      606        Subscriber    94107  "
      ]
     },
     "execution_count": 12,
     "metadata": {},
     "output_type": "execute_result"
    }
   ],
   "source": [
    "trip.sample(3)"
   ]
  },
  {
   "cell_type": "code",
   "execution_count": 22,
   "metadata": {
    "collapsed": false
   },
   "outputs": [
    {
     "data": {
      "text/html": [
       "<div>\n",
       "<table border=\"1\" class=\"dataframe\">\n",
       "  <thead>\n",
       "    <tr style=\"text-align: right;\">\n",
       "      <th></th>\n",
       "      <th>id</th>\n",
       "      <th>duration</th>\n",
       "      <th>start_date</th>\n",
       "      <th>start_station_name</th>\n",
       "      <th>start_station_id</th>\n",
       "      <th>end_date</th>\n",
       "      <th>end_station_name</th>\n",
       "      <th>end_station_id</th>\n",
       "      <th>bike_id</th>\n",
       "      <th>subscription_type</th>\n",
       "      <th>zip_code</th>\n",
       "      <th>date</th>\n",
       "      <th>hour</th>\n",
       "    </tr>\n",
       "  </thead>\n",
       "  <tbody>\n",
       "    <tr>\n",
       "      <th>663939</th>\n",
       "      <td>441179</td>\n",
       "      <td>6485</td>\n",
       "      <td>9/6/2014 16:24</td>\n",
       "      <td>Embarcadero at Sansome</td>\n",
       "      <td>60</td>\n",
       "      <td>9/6/2014 18:12</td>\n",
       "      <td>Embarcadero at Sansome</td>\n",
       "      <td>60</td>\n",
       "      <td>419</td>\n",
       "      <td>Customer</td>\n",
       "      <td>78722</td>\n",
       "      <td>9/6/2014</td>\n",
       "      <td>16:24</td>\n",
       "    </tr>\n",
       "    <tr>\n",
       "      <th>281854</th>\n",
       "      <td>245159</td>\n",
       "      <td>309</td>\n",
       "      <td>4/11/2014 14:59</td>\n",
       "      <td>Grant Avenue at Columbus Avenue</td>\n",
       "      <td>73</td>\n",
       "      <td>4/11/2014 15:04</td>\n",
       "      <td>Clay at Battery</td>\n",
       "      <td>41</td>\n",
       "      <td>352</td>\n",
       "      <td>Subscriber</td>\n",
       "      <td>94107</td>\n",
       "      <td>4/11/2014</td>\n",
       "      <td>14:59</td>\n",
       "    </tr>\n",
       "  </tbody>\n",
       "</table>\n",
       "</div>"
      ],
      "text/plain": [
       "            id  duration       start_date               start_station_name  \\\n",
       "663939  441179      6485   9/6/2014 16:24           Embarcadero at Sansome   \n",
       "281854  245159       309  4/11/2014 14:59  Grant Avenue at Columbus Avenue   \n",
       "\n",
       "        start_station_id         end_date        end_station_name  \\\n",
       "663939                60   9/6/2014 18:12  Embarcadero at Sansome   \n",
       "281854                73  4/11/2014 15:04         Clay at Battery   \n",
       "\n",
       "        end_station_id  bike_id subscription_type zip_code       date   hour  \n",
       "663939              60      419          Customer    78722   9/6/2014  16:24  \n",
       "281854              41      352        Subscriber    94107  4/11/2014  14:59  "
      ]
     },
     "execution_count": 22,
     "metadata": {},
     "output_type": "execute_result"
    }
   ],
   "source": [
    "trip.sample(2)"
   ]
  },
  {
   "cell_type": "code",
   "execution_count": 42,
   "metadata": {
    "collapsed": false
   },
   "outputs": [
    {
     "data": {
      "text/plain": [
       "(669959, 13)"
      ]
     },
     "execution_count": 42,
     "metadata": {},
     "output_type": "execute_result"
    }
   ],
   "source": [
    "trip.shape"
   ]
  },
  {
   "cell_type": "code",
   "execution_count": 55,
   "metadata": {
    "collapsed": false
   },
   "outputs": [],
   "source": [
    "del trip['annual_member'] "
   ]
  },
  {
   "cell_type": "code",
   "execution_count": 56,
   "metadata": {
    "collapsed": false
   },
   "outputs": [
    {
     "data": {
      "text/plain": [
       "Subscriber    566746\n",
       "Customer      103213\n",
       "Name: subscription_type, dtype: int64"
      ]
     },
     "execution_count": 56,
     "metadata": {},
     "output_type": "execute_result"
    }
   ],
   "source": [
    "trip['subscription_type'].value_counts()"
   ]
  },
  {
   "cell_type": "code",
   "execution_count": 54,
   "metadata": {
    "collapsed": false
   },
   "outputs": [
    {
     "data": {
      "text/plain": [
       "<matplotlib.axes._subplots.AxesSubplot at 0x134aed090>"
      ]
     },
     "execution_count": 54,
     "metadata": {},
     "output_type": "execute_result"
    },
    {
     "data": {
      "image/png": "[encoded data removed]",
      "text/plain": [
       "<matplotlib.figure.Figure at 0x11e611ed0>"
      ]
     },
     "metadata": {},
     "output_type": "display_data"
    }
   ],
   "source": [
    "trip['subscription_type'].value_counts().plot.bar()"
   ]
  },
  {
   "cell_type": "code",
   "execution_count": 57,
   "metadata": {
    "collapsed": true
   },
   "outputs": [],
   "source": [
    "date = trip.loc[:,'start_date'].str.split(' ')\n",
    "trip['date'] = date.map(lambda date: date[0])\n",
    "trip['hour'] = date.map(lambda hour: hour[1])\n",
    "trip['hour'] = trip.loc[:,'hour'].str.split(':').map(lambda h: h[0])\n"
   ]
  },
  {
   "cell_type": "code",
   "execution_count": 86,
   "metadata": {
    "collapsed": false
   },
   "outputs": [
    {
     "data": {
      "text/plain": [
       "<matplotlib.axes._subplots.AxesSubplot at 0x127592f50>"
      ]
     },
     "execution_count": 86,
     "metadata": {},
     "output_type": "execute_result"
    },
    {
     "data": {
      "image/png": "[encoded data removed]",
      "text/plain": [
       "<matplotlib.figure.Figure at 0x129fa4a10>"
      ]
     },
     "metadata": {},
     "output_type": "display_data"
    }
   ],
   "source": [
    "# Cantidad de bicicletas retiradas por hora\n",
    "trip.sort_values(by=('hour'), ascending=True)['hour']\\\n",
    "    .map(lambda x :int(x)).value_counts().sort_index().plot.bar()\n"
   ]
  },
  {
   "cell_type": "code",
   "execution_count": 109,
   "metadata": {
    "collapsed": false
   },
   "outputs": [
    {
     "data": {
      "text/plain": [
       "<matplotlib.axes._subplots.AxesSubplot at 0x12c173510>"
      ]
     },
     "execution_count": 109,
     "metadata": {},
     "output_type": "execute_result"
    },
    {
     "data": {
      "image/png": "[encoded data removed]",
      "text/plain": [
       "<matplotlib.figure.Figure at 0x12d8b9bd0>"
      ]
     },
     "metadata": {},
     "output_type": "display_data"
    }
   ],
   "source": [
    "# Cantidad de bicicletas por dia de la semana\n",
    "import calendar\n",
    "trip['start_date'] = pd.to_datetime(trip['start_date'])\n",
    "trip['weekday'] = trip['start_date'].dt.dayofweek\n",
    "trip['weekday'].value_counts().sort_index().rename(lambda x: calendar.day_name[x])\\\n",
    "                .plot.bar()"
   ]
  },
  {
   "cell_type": "code",
   "execution_count": 113,
   "metadata": {
    "collapsed": false
   },
   "outputs": [
    {
     "data": {
      "text/plain": [
       "2014-09-15    1516\n",
       "2014-08-26    1513\n",
       "2014-10-14    1496\n",
       "2014-10-29    1496\n",
       "2014-08-27    1479\n",
       "2015-08-26    1465\n",
       "2014-10-16    1462\n",
       "2014-10-02    1452\n",
       "2015-07-28    1451\n",
       "2015-08-27    1443\n",
       "2014-09-16    1438\n",
       "2015-06-11    1437\n",
       "2014-09-17    1429\n",
       "2014-10-24    1427\n",
       "2015-08-25    1421\n",
       "2014-10-28    1419\n",
       "2015-08-17    1418\n",
       "2015-06-04    1414\n",
       "2015-07-29    1411\n",
       "2014-10-30    1411\n",
       "2014-11-06    1410\n",
       "2014-10-21    1410\n",
       "2015-03-25    1409\n",
       "2015-06-16    1409\n",
       "2015-08-18    1407\n",
       "2015-07-08    1405\n",
       "2014-09-03    1404\n",
       "2015-03-30    1403\n",
       "2015-08-13    1401\n",
       "2015-08-12    1400\n",
       "              ... \n",
       "2015-03-22     280\n",
       "2013-12-07     277\n",
       "2014-11-28     277\n",
       "2015-01-18     275\n",
       "2013-12-08     274\n",
       "2013-11-28     272\n",
       "2015-06-14     269\n",
       "2014-11-16     267\n",
       "2015-05-10     267\n",
       "2015-05-31     266\n",
       "2014-12-14     264\n",
       "2015-01-25     259\n",
       "2015-02-01     251\n",
       "2014-01-11     247\n",
       "2014-12-21     246\n",
       "2014-11-23     235\n",
       "2014-12-27     231\n",
       "2015-04-05     216\n",
       "2014-03-02     208\n",
       "2015-01-04     206\n",
       "2015-01-01     181\n",
       "2014-12-25     150\n",
       "2015-02-08     141\n",
       "2014-11-27     133\n",
       "2014-02-02     128\n",
       "2014-11-30     121\n",
       "2014-03-29     117\n",
       "2014-12-11     107\n",
       "2014-02-08      94\n",
       "2014-02-09      81\n",
       "Name: date, dtype: int64"
      ]
     },
     "execution_count": 113,
     "metadata": {},
     "output_type": "execute_result"
    }
   ],
   "source": [
    "#Convert to datetime so that it can be manipulated more easily\n",
    "trip['date'] = pd.to_datetime(trip['start_date']).dt.date\n",
    "trip['date'].value_counts()\n"
   ]
  },
  {
   "cell_type": "code",
   "execution_count": null,
   "metadata": {
    "collapsed": true
   },
   "outputs": [],
   "source": []
  },
  {
   "cell_type": "code",
   "execution_count": 112,
   "metadata": {
    "collapsed": false
   },
   "outputs": [
    {
     "data": {
      "text/plain": [
       "datetime.date"
      ]
     },
     "execution_count": 112,
     "metadata": {},
     "output_type": "execute_result"
    }
   ],
   "source": [
    "type(trip.date[1])"
   ]
  },
  {
   "cell_type": "code",
   "execution_count": 145,
   "metadata": {
    "collapsed": false
   },
   "outputs": [
    {
     "data": {
      "text/plain": [
       "<matplotlib.axes._subplots.AxesSubplot at 0x12f0b2090>"
      ]
     },
     "execution_count": 145,
     "metadata": {},
     "output_type": "execute_result"
    },
    {
     "data": {
      "image/png": "[encoded data removed]",
      "text/plain": [
       "<matplotlib.figure.Figure at 0x12becd7d0>"
      ]
     },
     "metadata": {},
     "output_type": "display_data"
    }
   ],
   "source": [
    "# 10 Estaciones donde se retiran mas bicicletas\n",
    "trip.start_station_id.value_counts().sort_values(ascending = False)\\\n",
    "    .nlargest(10).plot.bar()\n"
   ]
  },
  {
   "cell_type": "code",
   "execution_count": 147,
   "metadata": {
    "collapsed": false,
    "scrolled": true
   },
   "outputs": [
    {
     "data": {
      "text/plain": [
       "<matplotlib.axes._subplots.AxesSubplot at 0x127370450>"
      ]
     },
     "execution_count": 147,
     "metadata": {},
     "output_type": "execute_result"
    },
    {
     "data": {
      "image/png": "[encoded data removed]",
      "text/plain": [
       "<matplotlib.figure.Figure at 0x12f097090>"
      ]
     },
     "metadata": {},
     "output_type": "display_data"
    }
   ],
   "source": [
    "# 10 Estaciones donde se retiran menos bicicletas\n",
    "trip.start_station_id.value_counts().sort_values(ascending = True)\\\n",
    "    .nsmallest(10).plot.bar()"
   ]
  },
  {
   "cell_type": "code",
   "execution_count": 92,
   "metadata": {
    "collapsed": false
   },
   "outputs": [
    {
     "name": "stdout",
     "output_type": "stream",
     "text": [
      "De: 669959 viajes solo se pasan de 30 minutos: 204\n"
     ]
    }
   ],
   "source": [
    "# Cantidad de viajes que superaron los 30 minutos.\n",
    "trip['duration'] = trip['duration'].map(lambda x: int(x)/60)\n",
    "no_exceeded_30min = trip.sort_values(by = 'duration', ascending = False).loc[trip.duration < 1801].shape \n",
    "exceeded_30min = tuple(map(lambda x, y: x - y, trip.shape,no_exceeded_30min))\n",
    "\n",
    "print 'De: '+ str(trip.shape[0]) + ' viajes solo se pasan de 30 minutos: ' + str(exceeded_30min[0])\n",
    "# Segun lo revisado en http://www.bayareabikeshare.com/pricing\n",
    "# Se cobra un adicional si se superan los 30 minutos de uso.\n",
    "# Se ve claramente que hay pocos registros de viajes que superen este límite."
   ]
  },
  {
   "cell_type": "code",
   "execution_count": 95,
   "metadata": {
    "collapsed": false
   },
   "outputs": [
    {
     "data": {
      "text/plain": [
       "<matplotlib.text.Text at 0x139a86b10>"
      ]
     },
     "execution_count": 95,
     "metadata": {},
     "output_type": "execute_result"
    },
    {
     "data": {
      "image/png": "[encoded data removed]",
      "text/plain": [
       "<matplotlib.figure.Figure at 0x166e04710>"
      ]
     },
     "metadata": {},
     "output_type": "display_data"
    }
   ],
   "source": [
    "# Estaciones donde se retiran bicicletas\n",
    "plt.figure()\n",
    "trip.start_station_id.value_counts().sort_values(ascending = False)\\\n",
    "    .plot.bar(figsize = (16,8), title = \"Cantidad de bicicletas retiradas en las estaciones\")\n",
    "plt.xlabel('station_id')\n",
    "plt.ylabel('count')\n",
    "   \n"
   ]
  },
  {
   "cell_type": "code",
   "execution_count": null,
   "metadata": {
    "collapsed": true
   },
   "outputs": [],
   "source": []
  }
 ],
 "metadata": {
  "kernelspec": {
   "display_name": "Python 2",
   "language": "python",
   "name": "python2"
  },
  "language_info": {
   "codemirror_mode": {
    "name": "ipython",
    "version": 2
   },
   "file_extension": ".py",
   "mimetype": "text/x-python",
   "name": "python",
   "nbconvert_exporter": "python",
   "pygments_lexer": "ipython2",
   "version": "2.7.13"
  }
 },
 "nbformat": 4,
 "nbformat_minor": 2
}
