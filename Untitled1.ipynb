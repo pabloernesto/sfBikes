{
 "cells": [
  {
   "cell_type": "code",
   "execution_count": 2,
   "metadata": {
    "collapsed": false
   },
   "outputs": [
    {
     "data": {
      "text/plain": [
       "44298018.733980648"
      ]
     },
     "execution_count": 2,
     "metadata": {},
     "output_type": "execute_result"
    }
   ],
   "source": [
    "# coding: utf-8\n",
    "\n",
    "# In[1]:\n",
    "\n",
    "import pandas as pd\n",
    "import seaborn as sbs\n",
    "import numpy as np\n",
    "import calendar\n",
    "from sklearn.metrics import mean_squared_error\n",
    "from sklearn import linear_model\n",
    "from sklearn.model_selection import train_test_split\n",
    "\n",
    "\n",
    "# In[2]:\n",
    "\n",
    "train  = pd.read_csv('data/trip_train.csv')\n",
    "test = pd.read_csv('data/trip_test.csv')\n",
    "trip = pd.read_csv('data/trip.csv')\n",
    "\n",
    "\n",
    "# In[3]:\n",
    "\n",
    "del train['end_date']\n",
    "del train['end_station_name']\n",
    "del train['end_station_id']\n",
    "del test['end_date']\n",
    "del test['end_station_name']\n",
    "del test['end_station_id']\n",
    "\n",
    "\n",
    "# In[4]:\n",
    "\n",
    "train.head(3)\n",
    "\n",
    "\n",
    "# In[5]:\n",
    "\n",
    "test.head(3)\n",
    "\n",
    "\n",
    "# In[6]:\n",
    "\n",
    "fechaYhora = train['start_date'].str.split(' ')\n",
    "fecha = fechaYhora.map(lambda x: x[0])\n",
    "hora = fechaYhora.map(lambda x: x[1])\n",
    "train = train.assign(date_start = fecha, time_start = hora)\n",
    "\n",
    "\n",
    "# In[7]:\n",
    "\n",
    "train['date_start'] = pd.to_datetime(train['date_start'])\n",
    "train['weekday'] = train['date_start'].map(lambda x: x.weekday_name)\n",
    "train['hour_start'] = pd.to_datetime(train['time_start'], format = '%H:%M', errors = 'coerce').dt.hour\n",
    "\n",
    "\n",
    "# In[8]:\n",
    "\n",
    "#idem para el test\n",
    "fechaYhora = test['start_date'].str.split(' ')\n",
    "fecha = fechaYhora.map(lambda x: x[0])\n",
    "hora = fechaYhora.map(lambda x: x[1])\n",
    "test = test.assign(date_start = fecha, time_start = hora)\n",
    "\n",
    "test['date_start'] = pd.to_datetime(test['date_start'])\n",
    "test['weekday'] = test['date_start'].map(lambda x: x.weekday_name)\n",
    "test['hour_start'] = pd.to_datetime(test['time_start'], format = '%H:%M', errors = 'coerce').dt.hour\n",
    "\n",
    "\n",
    "# In[9]:\n",
    "\n",
    "## del train['duration']\n",
    "\n",
    "\n",
    "# In[10]:\n",
    "\n",
    "train['subscription_type'] = train.subscription_type.map({'Subscriber':1, 'Customer':0})\n",
    "train['weekday'] = train.weekday.map({'Monday': 1, 'Tuesday': 2, 'Wednesday': 3, 'Thursday': 4,                                      'Friday': 5, 'Saturday': 6, 'Sunday': 7})\n",
    "\n",
    "\n",
    "# In[11]:\n",
    "\n",
    "test['weekday'] = test.weekday.map({'Monday': 1, 'Tuesday': 2, 'Wednesday': 3, 'Thursday': 4, 'Friday': 5, 'Saturday': 6, 'Sunday': 7})\n",
    "test['subscription_type'] = test.subscription_type.map({'Subscriber':1, 'Customer':0})\n",
    "\n",
    "\n",
    "# In[12]:\n",
    "\n",
    "train['month_start'] = train['date_start'].map(lambda x: x.month)\n",
    "test['month_start'] = test['date_start'].map(lambda x: x.month)\n",
    "\n",
    "\n",
    "# In[13]:\n",
    "\n",
    "#cambio zip code a numerico\n",
    "train.zip_code = train.zip_code.str.replace('nil','')\n",
    "train.zip_code = pd.to_numeric(train.zip_code,errors='coerce')\n",
    "test.zip_code = test.zip_code.str.replace('nil','')\n",
    "test.zip_code = pd.to_numeric(test.zip_code,errors='coerce')\n",
    "\n",
    "\n",
    "# In[14]:\n",
    "\n",
    "train.dtypes\n",
    "\n",
    "\n",
    "# In[15]:\n",
    "\n",
    "cols = ['id', 'start_station_id', 'bike_id', 'subscription_type', 'month_start', 'weekday', 'hour_start']\n",
    "features = train[cols]\n",
    "duration = train.duration\n",
    "\n",
    "\n",
    "# In[16]:\n",
    "\n",
    "test1 = test[cols]\n",
    "\n",
    "\n",
    "# In[17]:\n",
    "\n",
    "features.head(3)\n",
    "\n",
    "\n",
    "# # Linear Regression\n",
    "\n",
    "# In[18]:\n",
    "\n",
    "x_train, x_test, y_train, y_test = train_test_split(features, duration, test_size = 0.6, random_state = 0)\n",
    "\n",
    "reg = linear_model.LinearRegression()\n",
    "\n",
    "reg.fit(x_train, y_train) #entreno el algoritmo\n",
    "\n",
    "#prediccion\n",
    "\n",
    "pred = reg.predict(x_test)\n",
    "\n",
    "score = mean_squared_error(pred,y_test)\n",
    "score\n",
    "\n",
    "#calculo el error de mi prediccion\n",
    "\n",
    "#error = (pred - y_test) ** 2\n",
    "\n",
    "#otra forma mejor\n",
    "# error = no.sqrt(metrics.mean_squared_error(pred, y_test))\n",
    "\n",
    "#para que servia reg.score(x_test, y_test) \n",
    "\n",
    "\n",
    "# In[19]:\n",
    "\n",
    "prediccion1 = reg.predict(test1)\n",
    "\n",
    "\n",
    "# In[20]:\n",
    "\n",
    "tripIdDuration = trip[['id','duration']]\n",
    "\n",
    "\n",
    "# In[21]:\n",
    "\n",
    "target = test[['id']]\n",
    "\n",
    "\n",
    "# In[23]:\n",
    "\n",
    "testTarget = pd.merge(tripIdDuration,target, how = \"inner\", on = \"id\")\n",
    "\n",
    "\n",
    "# In[24]:\n",
    "\n",
    "testTarget.head(3)\n",
    "\n",
    "\n",
    "# In[25]:\n",
    "\n",
    "duration_real = testTarget['duration']\n",
    "\n",
    "\n",
    "# In[26]:\n",
    "\n",
    "score_test = mean_squared_error(prediccion1,duration_real)\n",
    "score_test\n",
    "\n",
    "\n"
   ]
  },
  {
   "cell_type": "code",
   "execution_count": 3,
   "metadata": {
    "collapsed": false
   },
   "outputs": [
    {
     "data": {
      "text/html": [
       "<div>\n",
       "<table border=\"1\" class=\"dataframe\">\n",
       "  <thead>\n",
       "    <tr style=\"text-align: right;\">\n",
       "      <th></th>\n",
       "      <th>id</th>\n",
       "      <th>start_station_id</th>\n",
       "      <th>bike_id</th>\n",
       "      <th>subscription_type</th>\n",
       "      <th>month_start</th>\n",
       "      <th>weekday</th>\n",
       "      <th>hour_start</th>\n",
       "    </tr>\n",
       "  </thead>\n",
       "  <tbody>\n",
       "    <tr>\n",
       "      <th>166048</th>\n",
       "      <td>324121</td>\n",
       "      <td>61</td>\n",
       "      <td>422</td>\n",
       "      <td>1</td>\n",
       "      <td>6</td>\n",
       "      <td>5</td>\n",
       "      <td>23</td>\n",
       "    </tr>\n",
       "    <tr>\n",
       "      <th>302520</th>\n",
       "      <td>145229</td>\n",
       "      <td>62</td>\n",
       "      <td>274</td>\n",
       "      <td>1</td>\n",
       "      <td>1</td>\n",
       "      <td>2</td>\n",
       "      <td>13</td>\n",
       "    </tr>\n",
       "  </tbody>\n",
       "</table>\n",
       "</div>"
      ],
      "text/plain": [
       "            id  start_station_id  bike_id  subscription_type  month_start  \\\n",
       "166048  324121                61      422                  1            6   \n",
       "302520  145229                62      274                  1            1   \n",
       "\n",
       "        weekday  hour_start  \n",
       "166048        5          23  \n",
       "302520        2          13  "
      ]
     },
     "execution_count": 3,
     "metadata": {},
     "output_type": "execute_result"
    }
   ],
   "source": [
    "x_train.head(2)"
   ]
  },
  {
   "cell_type": "code",
   "execution_count": 7,
   "metadata": {
    "collapsed": true
   },
   "outputs": [],
   "source": [
    "def square(x):\n",
    "    return x/2\n"
   ]
  },
  {
   "cell_type": "code",
   "execution_count": 5,
   "metadata": {
    "collapsed": false
   },
   "outputs": [
    {
     "data": {
      "text/plain": [
       "1    126\n",
       "2    130\n",
       "3    134\n",
       "4    141\n",
       "Name: duration, dtype: int64"
      ]
     },
     "execution_count": 5,
     "metadata": {},
     "output_type": "execute_result"
    }
   ],
   "source": [
    "duration_real[1:5]"
   ]
  },
  {
   "cell_type": "code",
   "execution_count": 9,
   "metadata": {
    "collapsed": false
   },
   "outputs": [
    {
     "data": {
      "text/plain": [
       "1    126\n",
       "2    130\n",
       "3    134\n",
       "4    141\n",
       "Name: duration, dtype: int64"
      ]
     },
     "execution_count": 9,
     "metadata": {},
     "output_type": "execute_result"
    }
   ],
   "source": [
    "s = duration_real[1:5] + duration_real[1:5]\n",
    "s.apply(square)\n"
   ]
  },
  {
   "cell_type": "code",
   "execution_count": null,
   "metadata": {
    "collapsed": true
   },
   "outputs": [],
   "source": []
  }
 ],
 "metadata": {
  "kernelspec": {
   "display_name": "Python 2",
   "language": "python",
   "name": "python2"
  },
  "language_info": {
   "codemirror_mode": {
    "name": "ipython",
    "version": 2
   },
   "file_extension": ".py",
   "mimetype": "text/x-python",
   "name": "python",
   "nbconvert_exporter": "python",
   "pygments_lexer": "ipython2",
   "version": "2.7.13"
  }
 },
 "nbformat": 4,
 "nbformat_minor": 2
}
